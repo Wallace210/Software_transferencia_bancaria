{
  "nbformat": 4,
  "nbformat_minor": 0,
  "metadata": {
    "colab": {
      "provenance": [],
      "include_colab_link": true
    },
    "kernelspec": {
      "name": "python3",
      "display_name": "Python 3"
    },
    "language_info": {
      "name": "python"
    }
  },
  "cells": [
    {
      "cell_type": "markdown",
      "metadata": {
        "id": "view-in-github",
        "colab_type": "text"
      },
      "source": [
        "<a href=\"https://colab.research.google.com/github/Wallace210/Software_transferencia_bancaria/blob/master/Notebook_PI_IV.ipynb\" target=\"_parent\"><img src=\"https://colab.research.google.com/assets/colab-badge.svg\" alt=\"Open In Colab\"/></a>"
      ]
    },
    {
      "cell_type": "markdown",
      "source": [
        "#Importando a biblioteca Numpy"
      ],
      "metadata": {
        "id": "JxEgjmN-jieH"
      }
    },
    {
      "cell_type": "markdown",
      "source": [
        "#Numpy\n",
        "(Numerical Python) é uma biblioteca do python que fornece suporte a arrays multidimensionais, estruturas de dados mais avançadas e eficientes para cálculos numéricos."
      ],
      "metadata": {
        "id": "CbqeQU9RpPZd"
      }
    },
    {
      "cell_type": "code",
      "execution_count": 18,
      "metadata": {
        "id": "XeNnx0Rqhj5l"
      },
      "outputs": [],
      "source": [
        "import numpy as np\n",
        "import pandas as pd\n",
        "import matplotlib.pyplot as plt"
      ]
    },
    {
      "cell_type": "code",
      "source": [
        "#url = 'https://raw.githubusercontent.com/alura-cursos/numpy/dados/apples_ts.csv'"
      ],
      "metadata": {
        "id": "5xa7Un9g_RqK"
      },
      "execution_count": null,
      "outputs": []
    },
    {
      "cell_type": "code",
      "source": [
        "# # Usando o arquivo que foi subido manualmente\n",
        "# np.loadtxt('apples_ts.csv', delimiter=',', usecols= np.arange(1, 88) )\n",
        "# dado = np.loadtxt(url, delimiter=',', usecols= np.arange(1, 88) )"
      ],
      "metadata": {
        "id": "H8Epss_p_hCY"
      },
      "execution_count": null,
      "outputs": []
    },
    {
      "cell_type": "code",
      "source": [
        "url = 'https://raw.githubusercontent.com/Projeto-Integrado-IV/dados_pi/main/raw/obitosinfantis_periodo.csv'"
      ],
      "metadata": {
        "id": "h8_JMCFC5K5f"
      },
      "execution_count": 7,
      "outputs": []
    },
    {
      "cell_type": "code",
      "source": [
        "dado = pd.read_csv(url, delimiter=';', encoding='latin1')"
      ],
      "metadata": {
        "id": "5lKbBb3u48J-"
      },
      "execution_count": 16,
      "outputs": []
    },
    {
      "cell_type": "code",
      "source": [
        "dado"
      ],
      "metadata": {
        "id": "MBbNKAIQl9-_",
        "colab": {
          "base_uri": "https://localhost:8080/",
          "height": 458
        },
        "outputId": "b5666fc6-086b-4968-e065-81f236fa23e7"
      },
      "execution_count": 17,
      "outputs": [
        {
          "output_type": "execute_result",
          "data": {
            "text/plain": [
              "       cod_ibge   ano  obitos menores de 1 Ano  obitos menores de 7 dias  \\\n",
              "0       3500000  2022                      4.0                       4.0   \n",
              "1       3500105  2022                      4.0                       2.0   \n",
              "2       3500204  2022                      0.0                       0.0   \n",
              "3       3500303  2022                      3.0                       2.0   \n",
              "4       3500402  2022                      1.0                       0.0   \n",
              "...         ...   ...                      ...                       ...   \n",
              "14853   3557006  2000                     30.0                      10.0   \n",
              "14854   3557105  2000                      9.0                       6.0   \n",
              "14855   3557154  2000                      0.0                       0.0   \n",
              "14856   3557204  2000                      4.0                       1.0   \n",
              "14857   3557303  2000                      2.0                       0.0   \n",
              "\n",
              "       obitos de 28 dias a 364 dias  obitos de 7 a 27 dias  \\\n",
              "0                               0.0                    0.0   \n",
              "1                               1.0                    1.0   \n",
              "2                               0.0                    0.0   \n",
              "3                               0.0                    1.0   \n",
              "4                               0.0                    1.0   \n",
              "...                             ...                    ...   \n",
              "14853                          12.0                    8.0   \n",
              "14854                           2.0                    1.0   \n",
              "14855                           0.0                    0.0   \n",
              "14856                           1.0                    2.0   \n",
              "14857                           2.0                    0.0   \n",
              "\n",
              "       nascidos vivos (por local de residência)  \n",
              "0                                         188.0  \n",
              "1                                         388.0  \n",
              "2                                          58.0  \n",
              "3                                         390.0  \n",
              "4                                          69.0  \n",
              "...                                         ...  \n",
              "14853                                    1936.0  \n",
              "14854                                    1001.0  \n",
              "14855                                      21.0  \n",
              "14856                                     199.0  \n",
              "14857                                     129.0  \n",
              "\n",
              "[14858 rows x 7 columns]"
            ],
            "text/html": [
              "\n",
              "  <div id=\"df-edee8250-899d-490c-b83f-4a20200f63ce\" class=\"colab-df-container\">\n",
              "    <div>\n",
              "<style scoped>\n",
              "    .dataframe tbody tr th:only-of-type {\n",
              "        vertical-align: middle;\n",
              "    }\n",
              "\n",
              "    .dataframe tbody tr th {\n",
              "        vertical-align: top;\n",
              "    }\n",
              "\n",
              "    .dataframe thead th {\n",
              "        text-align: right;\n",
              "    }\n",
              "</style>\n",
              "<table border=\"1\" class=\"dataframe\">\n",
              "  <thead>\n",
              "    <tr style=\"text-align: right;\">\n",
              "      <th></th>\n",
              "      <th>cod_ibge</th>\n",
              "      <th>ano</th>\n",
              "      <th>obitos menores de 1 Ano</th>\n",
              "      <th>obitos menores de 7 dias</th>\n",
              "      <th>obitos de 28 dias a 364 dias</th>\n",
              "      <th>obitos de 7 a 27 dias</th>\n",
              "      <th>nascidos vivos (por local de residência)</th>\n",
              "    </tr>\n",
              "  </thead>\n",
              "  <tbody>\n",
              "    <tr>\n",
              "      <th>0</th>\n",
              "      <td>3500000</td>\n",
              "      <td>2022</td>\n",
              "      <td>4.0</td>\n",
              "      <td>4.0</td>\n",
              "      <td>0.0</td>\n",
              "      <td>0.0</td>\n",
              "      <td>188.0</td>\n",
              "    </tr>\n",
              "    <tr>\n",
              "      <th>1</th>\n",
              "      <td>3500105</td>\n",
              "      <td>2022</td>\n",
              "      <td>4.0</td>\n",
              "      <td>2.0</td>\n",
              "      <td>1.0</td>\n",
              "      <td>1.0</td>\n",
              "      <td>388.0</td>\n",
              "    </tr>\n",
              "    <tr>\n",
              "      <th>2</th>\n",
              "      <td>3500204</td>\n",
              "      <td>2022</td>\n",
              "      <td>0.0</td>\n",
              "      <td>0.0</td>\n",
              "      <td>0.0</td>\n",
              "      <td>0.0</td>\n",
              "      <td>58.0</td>\n",
              "    </tr>\n",
              "    <tr>\n",
              "      <th>3</th>\n",
              "      <td>3500303</td>\n",
              "      <td>2022</td>\n",
              "      <td>3.0</td>\n",
              "      <td>2.0</td>\n",
              "      <td>0.0</td>\n",
              "      <td>1.0</td>\n",
              "      <td>390.0</td>\n",
              "    </tr>\n",
              "    <tr>\n",
              "      <th>4</th>\n",
              "      <td>3500402</td>\n",
              "      <td>2022</td>\n",
              "      <td>1.0</td>\n",
              "      <td>0.0</td>\n",
              "      <td>0.0</td>\n",
              "      <td>1.0</td>\n",
              "      <td>69.0</td>\n",
              "    </tr>\n",
              "    <tr>\n",
              "      <th>...</th>\n",
              "      <td>...</td>\n",
              "      <td>...</td>\n",
              "      <td>...</td>\n",
              "      <td>...</td>\n",
              "      <td>...</td>\n",
              "      <td>...</td>\n",
              "      <td>...</td>\n",
              "    </tr>\n",
              "    <tr>\n",
              "      <th>14853</th>\n",
              "      <td>3557006</td>\n",
              "      <td>2000</td>\n",
              "      <td>30.0</td>\n",
              "      <td>10.0</td>\n",
              "      <td>12.0</td>\n",
              "      <td>8.0</td>\n",
              "      <td>1936.0</td>\n",
              "    </tr>\n",
              "    <tr>\n",
              "      <th>14854</th>\n",
              "      <td>3557105</td>\n",
              "      <td>2000</td>\n",
              "      <td>9.0</td>\n",
              "      <td>6.0</td>\n",
              "      <td>2.0</td>\n",
              "      <td>1.0</td>\n",
              "      <td>1001.0</td>\n",
              "    </tr>\n",
              "    <tr>\n",
              "      <th>14855</th>\n",
              "      <td>3557154</td>\n",
              "      <td>2000</td>\n",
              "      <td>0.0</td>\n",
              "      <td>0.0</td>\n",
              "      <td>0.0</td>\n",
              "      <td>0.0</td>\n",
              "      <td>21.0</td>\n",
              "    </tr>\n",
              "    <tr>\n",
              "      <th>14856</th>\n",
              "      <td>3557204</td>\n",
              "      <td>2000</td>\n",
              "      <td>4.0</td>\n",
              "      <td>1.0</td>\n",
              "      <td>1.0</td>\n",
              "      <td>2.0</td>\n",
              "      <td>199.0</td>\n",
              "    </tr>\n",
              "    <tr>\n",
              "      <th>14857</th>\n",
              "      <td>3557303</td>\n",
              "      <td>2000</td>\n",
              "      <td>2.0</td>\n",
              "      <td>0.0</td>\n",
              "      <td>2.0</td>\n",
              "      <td>0.0</td>\n",
              "      <td>129.0</td>\n",
              "    </tr>\n",
              "  </tbody>\n",
              "</table>\n",
              "<p>14858 rows × 7 columns</p>\n",
              "</div>\n",
              "    <div class=\"colab-df-buttons\">\n",
              "\n",
              "  <div class=\"colab-df-container\">\n",
              "    <button class=\"colab-df-convert\" onclick=\"convertToInteractive('df-edee8250-899d-490c-b83f-4a20200f63ce')\"\n",
              "            title=\"Convert this dataframe to an interactive table.\"\n",
              "            style=\"display:none;\">\n",
              "\n",
              "  <svg xmlns=\"http://www.w3.org/2000/svg\" height=\"24px\" viewBox=\"0 -960 960 960\">\n",
              "    <path d=\"M120-120v-720h720v720H120Zm60-500h600v-160H180v160Zm220 220h160v-160H400v160Zm0 220h160v-160H400v160ZM180-400h160v-160H180v160Zm440 0h160v-160H620v160ZM180-180h160v-160H180v160Zm440 0h160v-160H620v160Z\"/>\n",
              "  </svg>\n",
              "    </button>\n",
              "\n",
              "  <style>\n",
              "    .colab-df-container {\n",
              "      display:flex;\n",
              "      gap: 12px;\n",
              "    }\n",
              "\n",
              "    .colab-df-convert {\n",
              "      background-color: #E8F0FE;\n",
              "      border: none;\n",
              "      border-radius: 50%;\n",
              "      cursor: pointer;\n",
              "      display: none;\n",
              "      fill: #1967D2;\n",
              "      height: 32px;\n",
              "      padding: 0 0 0 0;\n",
              "      width: 32px;\n",
              "    }\n",
              "\n",
              "    .colab-df-convert:hover {\n",
              "      background-color: #E2EBFA;\n",
              "      box-shadow: 0px 1px 2px rgba(60, 64, 67, 0.3), 0px 1px 3px 1px rgba(60, 64, 67, 0.15);\n",
              "      fill: #174EA6;\n",
              "    }\n",
              "\n",
              "    .colab-df-buttons div {\n",
              "      margin-bottom: 4px;\n",
              "    }\n",
              "\n",
              "    [theme=dark] .colab-df-convert {\n",
              "      background-color: #3B4455;\n",
              "      fill: #D2E3FC;\n",
              "    }\n",
              "\n",
              "    [theme=dark] .colab-df-convert:hover {\n",
              "      background-color: #434B5C;\n",
              "      box-shadow: 0px 1px 3px 1px rgba(0, 0, 0, 0.15);\n",
              "      filter: drop-shadow(0px 1px 2px rgba(0, 0, 0, 0.3));\n",
              "      fill: #FFFFFF;\n",
              "    }\n",
              "  </style>\n",
              "\n",
              "    <script>\n",
              "      const buttonEl =\n",
              "        document.querySelector('#df-edee8250-899d-490c-b83f-4a20200f63ce button.colab-df-convert');\n",
              "      buttonEl.style.display =\n",
              "        google.colab.kernel.accessAllowed ? 'block' : 'none';\n",
              "\n",
              "      async function convertToInteractive(key) {\n",
              "        const element = document.querySelector('#df-edee8250-899d-490c-b83f-4a20200f63ce');\n",
              "        const dataTable =\n",
              "          await google.colab.kernel.invokeFunction('convertToInteractive',\n",
              "                                                    [key], {});\n",
              "        if (!dataTable) return;\n",
              "\n",
              "        const docLinkHtml = 'Like what you see? Visit the ' +\n",
              "          '<a target=\"_blank\" href=https://colab.research.google.com/notebooks/data_table.ipynb>data table notebook</a>'\n",
              "          + ' to learn more about interactive tables.';\n",
              "        element.innerHTML = '';\n",
              "        dataTable['output_type'] = 'display_data';\n",
              "        await google.colab.output.renderOutput(dataTable, element);\n",
              "        const docLink = document.createElement('div');\n",
              "        docLink.innerHTML = docLinkHtml;\n",
              "        element.appendChild(docLink);\n",
              "      }\n",
              "    </script>\n",
              "  </div>\n",
              "\n",
              "\n",
              "<div id=\"df-8004e45c-efe7-45be-bd8e-ec8d137fc6f0\">\n",
              "  <button class=\"colab-df-quickchart\" onclick=\"quickchart('df-8004e45c-efe7-45be-bd8e-ec8d137fc6f0')\"\n",
              "            title=\"Suggest charts\"\n",
              "            style=\"display:none;\">\n",
              "\n",
              "<svg xmlns=\"http://www.w3.org/2000/svg\" height=\"24px\"viewBox=\"0 0 24 24\"\n",
              "     width=\"24px\">\n",
              "    <g>\n",
              "        <path d=\"M19 3H5c-1.1 0-2 .9-2 2v14c0 1.1.9 2 2 2h14c1.1 0 2-.9 2-2V5c0-1.1-.9-2-2-2zM9 17H7v-7h2v7zm4 0h-2V7h2v10zm4 0h-2v-4h2v4z\"/>\n",
              "    </g>\n",
              "</svg>\n",
              "  </button>\n",
              "\n",
              "<style>\n",
              "  .colab-df-quickchart {\n",
              "      --bg-color: #E8F0FE;\n",
              "      --fill-color: #1967D2;\n",
              "      --hover-bg-color: #E2EBFA;\n",
              "      --hover-fill-color: #174EA6;\n",
              "      --disabled-fill-color: #AAA;\n",
              "      --disabled-bg-color: #DDD;\n",
              "  }\n",
              "\n",
              "  [theme=dark] .colab-df-quickchart {\n",
              "      --bg-color: #3B4455;\n",
              "      --fill-color: #D2E3FC;\n",
              "      --hover-bg-color: #434B5C;\n",
              "      --hover-fill-color: #FFFFFF;\n",
              "      --disabled-bg-color: #3B4455;\n",
              "      --disabled-fill-color: #666;\n",
              "  }\n",
              "\n",
              "  .colab-df-quickchart {\n",
              "    background-color: var(--bg-color);\n",
              "    border: none;\n",
              "    border-radius: 50%;\n",
              "    cursor: pointer;\n",
              "    display: none;\n",
              "    fill: var(--fill-color);\n",
              "    height: 32px;\n",
              "    padding: 0;\n",
              "    width: 32px;\n",
              "  }\n",
              "\n",
              "  .colab-df-quickchart:hover {\n",
              "    background-color: var(--hover-bg-color);\n",
              "    box-shadow: 0 1px 2px rgba(60, 64, 67, 0.3), 0 1px 3px 1px rgba(60, 64, 67, 0.15);\n",
              "    fill: var(--button-hover-fill-color);\n",
              "  }\n",
              "\n",
              "  .colab-df-quickchart-complete:disabled,\n",
              "  .colab-df-quickchart-complete:disabled:hover {\n",
              "    background-color: var(--disabled-bg-color);\n",
              "    fill: var(--disabled-fill-color);\n",
              "    box-shadow: none;\n",
              "  }\n",
              "\n",
              "  .colab-df-spinner {\n",
              "    border: 2px solid var(--fill-color);\n",
              "    border-color: transparent;\n",
              "    border-bottom-color: var(--fill-color);\n",
              "    animation:\n",
              "      spin 1s steps(1) infinite;\n",
              "  }\n",
              "\n",
              "  @keyframes spin {\n",
              "    0% {\n",
              "      border-color: transparent;\n",
              "      border-bottom-color: var(--fill-color);\n",
              "      border-left-color: var(--fill-color);\n",
              "    }\n",
              "    20% {\n",
              "      border-color: transparent;\n",
              "      border-left-color: var(--fill-color);\n",
              "      border-top-color: var(--fill-color);\n",
              "    }\n",
              "    30% {\n",
              "      border-color: transparent;\n",
              "      border-left-color: var(--fill-color);\n",
              "      border-top-color: var(--fill-color);\n",
              "      border-right-color: var(--fill-color);\n",
              "    }\n",
              "    40% {\n",
              "      border-color: transparent;\n",
              "      border-right-color: var(--fill-color);\n",
              "      border-top-color: var(--fill-color);\n",
              "    }\n",
              "    60% {\n",
              "      border-color: transparent;\n",
              "      border-right-color: var(--fill-color);\n",
              "    }\n",
              "    80% {\n",
              "      border-color: transparent;\n",
              "      border-right-color: var(--fill-color);\n",
              "      border-bottom-color: var(--fill-color);\n",
              "    }\n",
              "    90% {\n",
              "      border-color: transparent;\n",
              "      border-bottom-color: var(--fill-color);\n",
              "    }\n",
              "  }\n",
              "</style>\n",
              "\n",
              "  <script>\n",
              "    async function quickchart(key) {\n",
              "      const quickchartButtonEl =\n",
              "        document.querySelector('#' + key + ' button');\n",
              "      quickchartButtonEl.disabled = true;  // To prevent multiple clicks.\n",
              "      quickchartButtonEl.classList.add('colab-df-spinner');\n",
              "      try {\n",
              "        const charts = await google.colab.kernel.invokeFunction(\n",
              "            'suggestCharts', [key], {});\n",
              "      } catch (error) {\n",
              "        console.error('Error during call to suggestCharts:', error);\n",
              "      }\n",
              "      quickchartButtonEl.classList.remove('colab-df-spinner');\n",
              "      quickchartButtonEl.classList.add('colab-df-quickchart-complete');\n",
              "    }\n",
              "    (() => {\n",
              "      let quickchartButtonEl =\n",
              "        document.querySelector('#df-8004e45c-efe7-45be-bd8e-ec8d137fc6f0 button');\n",
              "      quickchartButtonEl.style.display =\n",
              "        google.colab.kernel.accessAllowed ? 'block' : 'none';\n",
              "    })();\n",
              "  </script>\n",
              "</div>\n",
              "\n",
              "  <div id=\"id_9051898e-9a53-4116-bddf-3cfe3aa209f9\">\n",
              "    <style>\n",
              "      .colab-df-generate {\n",
              "        background-color: #E8F0FE;\n",
              "        border: none;\n",
              "        border-radius: 50%;\n",
              "        cursor: pointer;\n",
              "        display: none;\n",
              "        fill: #1967D2;\n",
              "        height: 32px;\n",
              "        padding: 0 0 0 0;\n",
              "        width: 32px;\n",
              "      }\n",
              "\n",
              "      .colab-df-generate:hover {\n",
              "        background-color: #E2EBFA;\n",
              "        box-shadow: 0px 1px 2px rgba(60, 64, 67, 0.3), 0px 1px 3px 1px rgba(60, 64, 67, 0.15);\n",
              "        fill: #174EA6;\n",
              "      }\n",
              "\n",
              "      [theme=dark] .colab-df-generate {\n",
              "        background-color: #3B4455;\n",
              "        fill: #D2E3FC;\n",
              "      }\n",
              "\n",
              "      [theme=dark] .colab-df-generate:hover {\n",
              "        background-color: #434B5C;\n",
              "        box-shadow: 0px 1px 3px 1px rgba(0, 0, 0, 0.15);\n",
              "        filter: drop-shadow(0px 1px 2px rgba(0, 0, 0, 0.3));\n",
              "        fill: #FFFFFF;\n",
              "      }\n",
              "    </style>\n",
              "    <button class=\"colab-df-generate\" onclick=\"generateWithVariable('dado')\"\n",
              "            title=\"Generate code using this dataframe.\"\n",
              "            style=\"display:none;\">\n",
              "\n",
              "  <svg xmlns=\"http://www.w3.org/2000/svg\" height=\"24px\"viewBox=\"0 0 24 24\"\n",
              "       width=\"24px\">\n",
              "    <path d=\"M7,19H8.4L18.45,9,17,7.55,7,17.6ZM5,21V16.75L18.45,3.32a2,2,0,0,1,2.83,0l1.4,1.43a1.91,1.91,0,0,1,.58,1.4,1.91,1.91,0,0,1-.58,1.4L9.25,21ZM18.45,9,17,7.55Zm-12,3A5.31,5.31,0,0,0,4.9,8.1,5.31,5.31,0,0,0,1,6.5,5.31,5.31,0,0,0,4.9,4.9,5.31,5.31,0,0,0,6.5,1,5.31,5.31,0,0,0,8.1,4.9,5.31,5.31,0,0,0,12,6.5,5.46,5.46,0,0,0,6.5,12Z\"/>\n",
              "  </svg>\n",
              "    </button>\n",
              "    <script>\n",
              "      (() => {\n",
              "      const buttonEl =\n",
              "        document.querySelector('#id_9051898e-9a53-4116-bddf-3cfe3aa209f9 button.colab-df-generate');\n",
              "      buttonEl.style.display =\n",
              "        google.colab.kernel.accessAllowed ? 'block' : 'none';\n",
              "\n",
              "      buttonEl.onclick = () => {\n",
              "        google.colab.notebook.generateWithVariable('dado');\n",
              "      }\n",
              "      })();\n",
              "    </script>\n",
              "  </div>\n",
              "\n",
              "    </div>\n",
              "  </div>\n"
            ],
            "application/vnd.google.colaboratory.intrinsic+json": {
              "type": "dataframe",
              "variable_name": "dado",
              "summary": "{\n  \"name\": \"dado\",\n  \"rows\": 14858,\n  \"fields\": [\n    {\n      \"column\": \"cod_ibge\",\n      \"properties\": {\n        \"dtype\": \"number\",\n        \"std\": 16713,\n        \"min\": 3500000,\n        \"max\": 3557303,\n        \"num_unique_values\": 646,\n        \"samples\": [\n          3556404,\n          3532702,\n          3530003\n        ],\n        \"semantic_type\": \"\",\n        \"description\": \"\"\n      }\n    },\n    {\n      \"column\": \"ano\",\n      \"properties\": {\n        \"dtype\": \"number\",\n        \"std\": 6,\n        \"min\": 2000,\n        \"max\": 2022,\n        \"num_unique_values\": 23,\n        \"samples\": [\n          2007,\n          2013,\n          2022\n        ],\n        \"semantic_type\": \"\",\n        \"description\": \"\"\n      }\n    },\n    {\n      \"column\": \"obitos menores de 1 Ano\",\n      \"properties\": {\n        \"dtype\": \"number\",\n        \"std\": 89.39208105999317,\n        \"min\": 0.0,\n        \"max\": 3277.0,\n        \"num_unique_values\": 208,\n        \"samples\": [\n          86.0,\n          34.0,\n          92.0\n        ],\n        \"semantic_type\": \"\",\n        \"description\": \"\"\n      }\n    },\n    {\n      \"column\": \"obitos menores de 7 dias\",\n      \"properties\": {\n        \"dtype\": \"number\",\n        \"std\": 41.77168433377996,\n        \"min\": 0.0,\n        \"max\": 1597.0,\n        \"num_unique_values\": 136,\n        \"samples\": [\n          878.0,\n          59.0,\n          57.0\n        ],\n        \"semantic_type\": \"\",\n        \"description\": \"\"\n      }\n    },\n    {\n      \"column\": \"obitos de 28 dias a 364 dias\",\n      \"properties\": {\n        \"dtype\": \"number\",\n        \"std\": 29.894793124073978,\n        \"min\": 0.0,\n        \"max\": 1140.0,\n        \"num_unique_values\": 105,\n        \"samples\": [\n          22.0,\n          31.0,\n          621.0\n        ],\n        \"semantic_type\": \"\",\n        \"description\": \"\"\n      }\n    },\n    {\n      \"column\": \"obitos de 7 a 27 dias\",\n      \"properties\": {\n        \"dtype\": \"number\",\n        \"std\": 17.95416333336562,\n        \"min\": 0.0,\n        \"max\": 571.0,\n        \"num_unique_values\": 86,\n        \"samples\": [\n          519.0,\n          0.0,\n          43.0\n        ],\n        \"semantic_type\": \"\",\n        \"description\": \"\"\n      }\n    },\n    {\n      \"column\": \"nascidos vivos (por local de resid\\u00eancia)\",\n      \"properties\": {\n        \"dtype\": \"number\",\n        \"std\": 6495.233732680844,\n        \"min\": 1.005,\n        \"max\": 207462.0,\n        \"num_unique_values\": 2763,\n        \"samples\": [\n          1.447,\n          798.0,\n          4999.0\n        ],\n        \"semantic_type\": \"\",\n        \"description\": \"\"\n      }\n    }\n  ]\n}"
            }
          },
          "metadata": {},
          "execution_count": 17
        }
      ]
    },
    {
      "cell_type": "code",
      "source": [
        "df_filter = dado[dado['cod_ibge'] == 3500303]"
      ],
      "metadata": {
        "id": "YxkdFmYO7q-f"
      },
      "execution_count": 23,
      "outputs": []
    },
    {
      "cell_type": "code",
      "source": [
        "# Plotando o gráfico\n",
        "plt.figure(figsize=(10, 6))\n",
        "plt.plot(df_filter['ano'], df_filter['obitos menores de 1 Ano'], marker='o', linestyle='-', color='b')"
      ],
      "metadata": {
        "colab": {
          "base_uri": "https://localhost:8080/",
          "height": 539
        },
        "id": "sBtGGf-A7ql9",
        "outputId": "3a92b77c-9ab6-4ae6-e105-34328dbaa116"
      },
      "execution_count": 24,
      "outputs": [
        {
          "output_type": "execute_result",
          "data": {
            "text/plain": [
              "[<matplotlib.lines.Line2D at 0x7a5af7ec1c60>]"
            ]
          },
          "metadata": {},
          "execution_count": 24
        },
        {
          "output_type": "display_data",
          "data": {
            "text/plain": [
              "<Figure size 1000x600 with 1 Axes>"
            ],
            "image/png": "[encoded data removed]"
          },
          "metadata": {}
        }
      ]
    },
    {
      "cell_type": "code",
      "source": [],
      "metadata": {
        "id": "_CYsuDyx7qTN"
      },
      "execution_count": null,
      "outputs": []
    },
    {
      "cell_type": "markdown",
      "source": [
        "ndim: verifica a quantidade de dimenões do array\n",
        "Linhas e colunas no cado 2D\n"
      ],
      "metadata": {
        "id": "qjx43wyTsf-J"
      }
    },
    {
      "cell_type": "code",
      "source": [
        "dado.ndim"
      ],
      "metadata": {
        "colab": {
          "base_uri": "https://localhost:8080/"
        },
        "id": "2ZqTYt0Vsfoq",
        "outputId": "04fab79f-fb72-49a1-a506-b6edc721db71"
      },
      "execution_count": null,
      "outputs": [
        {
          "output_type": "execute_result",
          "data": {
            "text/plain": [
              "2"
            ]
          },
          "metadata": {},
          "execution_count": 10
        }
      ]
    },
    {
      "cell_type": "code",
      "source": [
        "#função size: verifica a quantidade de elementos em um array\n",
        "dado.size"
      ],
      "metadata": {
        "colab": {
          "base_uri": "https://localhost:8080/"
        },
        "id": "d_FkqbQ_sfmj",
        "outputId": "469f88dc-289c-40d5-bcbe-cc613bd21cd4"
      },
      "execution_count": null,
      "outputs": [
        {
          "output_type": "execute_result",
          "data": {
            "text/plain": [
              "522"
            ]
          },
          "metadata": {},
          "execution_count": 11
        }
      ]
    },
    {
      "cell_type": "code",
      "source": [
        "#função shape: verifica o núm de elementos em cada dimenção (linha, colunas)\n",
        "dado.shape"
      ],
      "metadata": {
        "colab": {
          "base_uri": "https://localhost:8080/"
        },
        "id": "aXInNIpetVwG",
        "outputId": "5be582e9-e8d5-4efa-d135-7d2f028aefb3"
      },
      "execution_count": null,
      "outputs": [
        {
          "output_type": "execute_result",
          "data": {
            "text/plain": [
              "(6, 87)"
            ]
          },
          "metadata": {},
          "execution_count": 12
        }
      ]
    },
    {
      "cell_type": "code",
      "source": [
        "#Função T: realiza a transposição do aaray\n",
        "dado_transposto = dado.T"
      ],
      "metadata": {
        "id": "kG9J5cshtxCF"
      },
      "execution_count": null,
      "outputs": []
    },
    {
      "cell_type": "code",
      "source": [
        "dado_transposto"
      ],
      "metadata": {
        "colab": {
          "base_uri": "https://localhost:8080/"
        },
        "id": "xPFXKEa5s5Op",
        "outputId": "3b2e18bc-6c44-47db-c995-e7a2f42c54c1"
      },
      "execution_count": null,
      "outputs": [
        {
          "output_type": "execute_result",
          "data": {
            "text/plain": [
              "array([[  1.2013,  79.72  ,  42.67  ,  62.55  ,  48.26  ,  71.25  ],\n",
              "       [  2.2013,  81.08  ,  44.37  ,  62.73  ,  51.01  ,  71.35  ],\n",
              "       [  3.2013,  79.68  ,  44.73  ,  63.43  ,  50.91  ,  70.9   ],\n",
              "       [  4.2013,  79.8   ,  46.75  ,  63.83  ,  53.94  ,  71.92  ],\n",
              "       [  5.2013,  80.63  ,      nan,  66.06  ,  61.27  ,  72.91  ],\n",
              "       [  6.2013,  80.8   ,  51.59  ,  69.22  ,  65.44  ,  74.39  ],\n",
              "       [  7.2013,  80.28  ,  57.8   ,  72.07  ,  56.51  ,  73.1   ],\n",
              "       [  8.2013,  78.99  ,  62.14  ,  69.31  ,  53.    ,  70.24  ],\n",
              "       [  9.2013,  76.77  ,  56.76  ,  65.18  ,  43.87  ,  69.12  ],\n",
              "       [ 10.2013,  76.09  ,  50.85  ,  62.13  ,  42.12  ,  68.98  ],\n",
              "       [ 11.2013,  76.36  ,  46.43  ,  64.17  ,  43.98  ,  68.58  ],\n",
              "       [ 12.2013,  77.16  ,  46.73  ,  65.5   ,  44.66  ,  69.5   ],\n",
              "       [  1.2014,  77.5   ,  45.85  ,  66.85  ,  47.73  ,  70.14  ],\n",
              "       [  2.2014,  79.03  ,  49.25  ,  68.38  ,  52.31  ,  70.58  ],\n",
              "       [  3.2014,  80.28  ,  48.14  ,  68.77  ,  56.8   ,  70.78  ],\n",
              "       [  4.2014,  80.05  ,  49.18  ,  69.32  ,  51.15  ,  72.78  ],\n",
              "       [  5.2014,  78.11  ,  49.49  ,  69.77  ,  54.63  ,  72.84  ],\n",
              "       [  6.2014,  76.9   ,  49.83  ,  70.17  ,  55.8   ,  74.74  ],\n",
              "       [  7.2014,  77.68  ,  49.14  ,  70.76  ,  57.31  ,  76.43  ],\n",
              "       [  8.2014,  76.05  ,  63.21  ,  75.16  ,  53.81  ,  81.2   ],\n",
              "       [  9.2014,  75.53  ,  61.2   ,  74.86  ,  55.5   ,  82.04  ],\n",
              "       [ 10.2014,  73.39  ,  60.34  ,  71.47  ,  52.95  ,  79.67  ],\n",
              "       [ 11.2014,  78.36  ,  62.2   ,  76.08  ,  53.29  ,  81.25  ],\n",
              "       [ 12.2014,  89.16  ,  74.2   ,  82.11  ,  54.86  ,  85.88  ],\n",
              "       [  1.2015, 105.43  ,  75.32  ,  94.63  ,  71.72  ,  91.35  ],\n",
              "       [  2.2015, 104.82  ,  75.92  ,  98.54  ,  74.36  , 101.32  ],\n",
              "       [  3.2015, 101.15  ,  72.89  ,  97.84  ,  78.25  , 102.45  ],\n",
              "       [  4.2015,  98.63  ,  74.85  ,  94.54  ,  70.63  ,  98.18  ],\n",
              "       [  5.2015,  99.96  ,  92.19  ,  97.88  ,  77.06  , 105.1   ],\n",
              "       [  6.2015,  97.29  ,  99.7   ,  97.73  ,  81.52  , 104.85  ],\n",
              "       [  7.2015,  98.64  , 102.78  , 100.89  ,  84.12  , 111.48  ],\n",
              "       [  8.2015, 104.26  ,  92.67  , 104.88  ,  83.33  , 118.51  ],\n",
              "       [  9.2015, 102.63  ,  90.63  , 104.39  ,  66.98  , 118.92  ],\n",
              "       [ 10.2015,  98.64  ,  83.31  , 101.9   ,  62.04  , 109.87  ],\n",
              "       [ 11.2015,  97.17  ,  75.5   ,  98.99  ,  59.79  , 105.22  ],\n",
              "       [ 12.2015,  98.09  ,  74.6   ,  99.42  ,  66.06  , 105.45  ],\n",
              "       [  1.2016, 103.07  ,  76.94  , 106.37  ,  71.99  , 115.61  ],\n",
              "       [  2.2016, 110.26  ,  83.04  , 113.89  ,  76.79  , 116.61  ],\n",
              "       [  3.2016, 110.84  ,  80.74  , 114.78  ,  80.98  , 120.39  ],\n",
              "       [  4.2016, 112.28  ,  80.29  , 115.6   ,  89.18  , 119.2   ],\n",
              "       [  5.2016, 111.1   ,  82.82  , 115.89  ,  92.71  , 119.92  ],\n",
              "       [  6.2016, 110.06  ,  86.29  , 117.66  ,  94.85  , 120.57  ],\n",
              "       [  7.2016, 113.7   ,  87.41  , 118.27  ,  99.18  , 123.37  ],\n",
              "       [  8.2016, 112.88  ,  85.1   , 114.19  ,  86.33  , 121.39  ],\n",
              "       [  9.2016, 102.08  ,  78.08  , 101.81  ,  71.94  , 118.16  ],\n",
              "       [ 10.2016,  95.54  ,  76.06  ,  91.62  ,  67.18  , 108.84  ],\n",
              "       [ 11.2016,  91.33  ,  69.23  ,  90.15  ,  62.98  , 100.78  ],\n",
              "       [ 12.2016,  89.99  ,  69.04  ,  90.55  ,  69.45  ,  99.92  ],\n",
              "       [  1.2017,  91.44  ,  64.48  ,  92.3   ,  67.56  , 100.65  ],\n",
              "       [  2.2017,  93.51  ,  65.73  ,  91.75  ,  67.92  ,  98.92  ],\n",
              "       [  3.2017,  93.6   ,  67.2   ,  92.    ,  68.4   , 100.31  ],\n",
              "       [  4.2017,  93.78  ,  70.25  ,  92.57  ,  67.97  ,  96.41  ],\n",
              "       [  5.2017,  98.91  ,  82.59  , 100.28  ,  76.33  , 101.24  ],\n",
              "       [  6.2017, 121.76  ,  92.12  , 114.33  ,  95.79  , 118.7   ],\n",
              "       [  7.2017, 129.6   , 100.82  , 122.17  , 112.36  , 133.29  ],\n",
              "       [  8.2017, 127.9   ,  95.23  , 117.83  ,  82.03  , 130.31  ],\n",
              "       [  9.2017, 114.55  ,  89.51  , 112.49  ,  73.83  , 122.4   ],\n",
              "       [ 10.2017, 101.88  ,  82.84  ,  93.7   ,  66.12  , 104.98  ],\n",
              "       [ 11.2017,  99.09  ,  82.3   ,  97.17  ,  63.24  , 107.54  ],\n",
              "       [ 12.2017, 103.35  ,  83.76  ,  95.64  ,  63.98  , 110.74  ],\n",
              "       [  1.2018, 106.58  ,  84.72  , 102.21  ,  69.1   , 110.51  ],\n",
              "       [  2.2018, 108.    ,  83.91  , 107.58  ,  70.04  , 111.46  ],\n",
              "       [  3.2018, 114.95  ,  99.14  , 110.48  ,  80.03  , 113.42  ],\n",
              "       [  4.2018, 121.17  , 101.6   , 117.73  ,  87.92  , 118.15  ],\n",
              "       [  5.2018, 122.48  , 113.03  , 122.07  ,  97.07  , 114.    ],\n",
              "       [  6.2018, 127.58  , 119.54  , 128.58  , 106.52  , 124.91  ],\n",
              "       [  7.2018, 131.89  , 118.09  , 131.12  , 108.93  , 126.06  ],\n",
              "       [  8.2018, 129.36  , 107.32  , 127.08  ,  95.17  , 123.3   ],\n",
              "       [  9.2018, 104.26  ,  82.6   , 110.99  ,  74.31  , 111.61  ],\n",
              "       [ 10.2018,  93.45  ,  77.4   ,  97.43  ,  62.63  ,  98.82  ],\n",
              "       [ 11.2018,  92.93  ,  71.77  ,  92.05  ,  69.92  ,  97.47  ],\n",
              "       [ 12.2018,  96.15  ,  71.25  ,  93.21  ,  70.58  , 103.01  ],\n",
              "       [  1.2019,  99.1   ,  71.35  ,  98.58  ,  74.63  , 109.36  ],\n",
              "       [  2.2019, 103.    ,  73.62  , 100.23  ,  78.69  , 104.79  ],\n",
              "       [  3.2019, 103.31  ,  76.2   , 102.09  ,  81.82  , 105.09  ],\n",
              "       [  4.2019, 103.01  ,  74.15  , 101.73  ,  82.36  , 103.16  ],\n",
              "       [  5.2019, 107.37  ,  75.67  , 107.28  ,  89.44  , 106.52  ],\n",
              "       [  6.2019, 116.91  ,  79.2   , 115.35  , 102.01  , 121.68  ],\n",
              "       [  7.2019, 125.29  ,  80.85  , 123.03  , 116.12  , 125.32  ],\n",
              "       [  8.2019, 123.94  ,  85.33  , 123.08  ,  92.06  , 123.41  ],\n",
              "       [  9.2019, 113.03  ,  75.02  , 109.71  ,  82.7   , 108.48  ],\n",
              "       [ 10.2019, 102.19  ,  77.95  ,  97.22  ,  66.62  ,  98.73  ],\n",
              "       [ 11.2019,  97.83  ,  78.98  ,  95.75  ,  68.11  ,  96.25  ],\n",
              "       [ 12.2019, 101.07  ,  76.55  ,  97.09  ,  73.48  , 100.12  ],\n",
              "       [  1.202 , 103.44  ,  74.89  ,  98.18  ,  82.04  , 101.29  ],\n",
              "       [  2.202 , 108.23  ,  70.    , 103.1   ,  81.19  , 102.81  ],\n",
              "       [  3.202 , 110.28  ,  81.53  , 110.6   ,  95.05  , 108.53  ]])"
            ]
          },
          "metadata": {},
          "execution_count": 14
        }
      ]
    },
    {
      "cell_type": "code",
      "source": [
        "# coluna de datas: [linha , coluna]\n",
        "# usando [:, ] pegamos todas as linhas do dataset\n",
        "datas = dado_transposto[:,0]"
      ],
      "metadata": {
        "id": "8gw8qi31qMr3"
      },
      "execution_count": null,
      "outputs": []
    },
    {
      "cell_type": "code",
      "source": [
        "# coluna de precos\n",
        "precos = dado_transposto[:, 1:6]"
      ],
      "metadata": {
        "id": "BuSdFdjirPgI"
      },
      "execution_count": null,
      "outputs": []
    },
    {
      "cell_type": "markdown",
      "source": [
        "Apenas o Numpy não é suficiente para apresentação de dados e gráficos, nesse caso precisamos da Matplotlib"
      ],
      "metadata": {
        "id": "SxV55Sonxd2H"
      }
    },
    {
      "cell_type": "code",
      "source": [
        "import matplotlib.pyplot as plt"
      ],
      "metadata": {
        "id": "hpbTE1ScsRCk"
      },
      "execution_count": null,
      "outputs": []
    },
    {
      "cell_type": "code",
      "source": [
        "# aqui a variável datas vai de 1 até 88 com passo 1, fizemos isso pois datas deve ser uma data e não um número.\n",
        "datas = np.arange(1, 88, 1)"
      ],
      "metadata": {
        "id": "nrWMzVrStOUd"
      },
      "execution_count": null,
      "outputs": []
    },
    {
      "cell_type": "code",
      "source": [
        "# plot plota o gráfico\n",
        "plt.plot(datas, precos[:,0])"
      ],
      "metadata": {
        "colab": {
          "base_uri": "https://localhost:8080/",
          "height": 447
        },
        "id": "BrVuIfxRsahU",
        "outputId": "1fec4773-8ace-445e-874d-2f4871e66e7f"
      },
      "execution_count": null,
      "outputs": [
        {
          "output_type": "execute_result",
          "data": {
            "text/plain": [
              "[<matplotlib.lines.Line2D at 0x7e9f6c511240>]"
            ]
          },
          "metadata": {},
          "execution_count": 19
        },
        {
          "output_type": "display_data",
          "data": {
            "text/plain": [
              "<Figure size 640x480 with 1 Axes>"
            ],
            "image/png": "[encoded data removed]"
          },
          "metadata": {}
        }
      ]
    },
    {
      "cell_type": "code",
      "source": [
        "Moscow = precos[:, 0]\n",
        "Kalinigrad = precos[:, 1]\n",
        "Petersburg = precos[:, 2]\n",
        "Krasnodar = precos[:, 3]\n",
        "Ekaterinburg = precos[:, 4]"
      ],
      "metadata": {
        "id": "vg4dnVmvs4oQ"
      },
      "execution_count": null,
      "outputs": []
    },
    {
      "cell_type": "code",
      "source": [
        "Moscow.shape"
      ],
      "metadata": {
        "colab": {
          "base_uri": "https://localhost:8080/"
        },
        "id": "79RTPRArurB7",
        "outputId": "ef35be9c-7b27-48a1-f624-720a9226130f"
      },
      "execution_count": null,
      "outputs": [
        {
          "output_type": "execute_result",
          "data": {
            "text/plain": [
              "(87,)"
            ]
          },
          "metadata": {},
          "execution_count": 21
        }
      ]
    },
    {
      "cell_type": "code",
      "source": [
        "# Separamos os anos dos precos de moscow\n",
        "Moscow_ano1 = Moscow[0:12]\n",
        "Moscow_ano2 = Moscow[12:24]\n",
        "Moscow_ano3 = Moscow[24:36]\n",
        "Moscow_ano4 = Moscow[36:48]"
      ],
      "metadata": {
        "id": "oCuzMD4M4oub"
      },
      "execution_count": null,
      "outputs": []
    },
    {
      "cell_type": "code",
      "source": [
        "# gráficos dos precos por mesese separados por ano.\n",
        "plt.plot(np.arange(1,13,1), Moscow_ano1)\n",
        "plt.plot(np.arange(1,13,1), Moscow_ano2)\n",
        "plt.plot(np.arange(1,13,1), Moscow_ano3)\n",
        "plt.plot(np.arange(1,13,1), Moscow_ano4)\n",
        "#cria uma legeda\n",
        "plt.legend(['ano1', 'ano2', 'ano3', 'ano4'])"
      ],
      "metadata": {
        "colab": {
          "base_uri": "https://localhost:8080/",
          "height": 447
        },
        "id": "XcgnnqaO5f18",
        "outputId": "ad53596f-d245-4d0a-9a24-f5052488d996"
      },
      "execution_count": null,
      "outputs": [
        {
          "output_type": "execute_result",
          "data": {
            "text/plain": [
              "<matplotlib.legend.Legend at 0x7e9f6c10f040>"
            ]
          },
          "metadata": {},
          "execution_count": 23
        },
        {
          "output_type": "display_data",
          "data": {
            "text/plain": [
              "<Figure size 640x480 with 1 Axes>"
            ],
            "image/png": "[encoded data removed]"
          },
          "metadata": {}
        }
      ]
    },
    {
      "cell_type": "code",
      "source": [
        "# Comparando se arrays são iguais ou próximos\n",
        "np.array_equal(Moscow_ano1, Moscow_ano2)"
      ],
      "metadata": {
        "colab": {
          "base_uri": "https://localhost:8080/"
        },
        "id": "9uyaFbPW7z0A",
        "outputId": "a3780494-8265-4424-bbb1-c7f1ca739fc5"
      },
      "execution_count": null,
      "outputs": [
        {
          "output_type": "execute_result",
          "data": {
            "text/plain": [
              "False"
            ]
          },
          "metadata": {},
          "execution_count": 24
        }
      ]
    },
    {
      "cell_type": "code",
      "source": [
        "#verifica se arrays são próximos (dentro de um intervalo)\n",
        "np.allclose(Moscow_ano3, Moscow_ano4, 0.2)"
      ],
      "metadata": {
        "colab": {
          "base_uri": "https://localhost:8080/"
        },
        "id": "J7Zs3piC8hJ7",
        "outputId": "f14a3531-15c2-4deb-b5bb-65f598e70e71"
      },
      "execution_count": null,
      "outputs": [
        {
          "output_type": "execute_result",
          "data": {
            "text/plain": [
              "True"
            ]
          },
          "metadata": {},
          "execution_count": 25
        }
      ]
    },
    {
      "cell_type": "code",
      "source": [
        "np.allclose(Moscow_ano3, Moscow_ano4, 0.1)"
      ],
      "metadata": {
        "colab": {
          "base_uri": "https://localhost:8080/"
        },
        "id": "yeZQmrSJBIpu",
        "outputId": "f04f189a-9b7c-42fb-df00-525d49869945"
      },
      "execution_count": null,
      "outputs": [
        {
          "output_type": "execute_result",
          "data": {
            "text/plain": [
              "False"
            ]
          },
          "metadata": {},
          "execution_count": 26
        }
      ]
    },
    {
      "cell_type": "code",
      "source": [
        "plt.plot(datas, Kalinigrad)"
      ],
      "metadata": {
        "colab": {
          "base_uri": "https://localhost:8080/",
          "height": 447
        },
        "id": "CsP508ofBWvO",
        "outputId": "35852a22-0b74-4604-a36b-6d323903a3d8"
      },
      "execution_count": null,
      "outputs": [
        {
          "output_type": "execute_result",
          "data": {
            "text/plain": [
              "[<matplotlib.lines.Line2D at 0x7e9f6c0173a0>]"
            ]
          },
          "metadata": {},
          "execution_count": 27
        },
        {
          "output_type": "display_data",
          "data": {
            "text/plain": [
              "<Figure size 640x480 with 1 Axes>"
            ],
            "image/png": "[encoded data removed]"
          },
          "metadata": {}
        }
      ]
    },
    {
      "cell_type": "code",
      "source": [
        "Kalinigrad\n",
        "# NaN = Not a Number (não numérico)"
      ],
      "metadata": {
        "colab": {
          "base_uri": "https://localhost:8080/"
        },
        "id": "i-Mg4X-bBqOo",
        "outputId": "40672e78-0cbc-428b-9eb6-540c851dbf86"
      },
      "execution_count": null,
      "outputs": [
        {
          "output_type": "execute_result",
          "data": {
            "text/plain": [
              "array([ 42.67,  44.37,  44.73,  46.75,    nan,  51.59,  57.8 ,  62.14,\n",
              "        56.76,  50.85,  46.43,  46.73,  45.85,  49.25,  48.14,  49.18,\n",
              "        49.49,  49.83,  49.14,  63.21,  61.2 ,  60.34,  62.2 ,  74.2 ,\n",
              "        75.32,  75.92,  72.89,  74.85,  92.19,  99.7 , 102.78,  92.67,\n",
              "        90.63,  83.31,  75.5 ,  74.6 ,  76.94,  83.04,  80.74,  80.29,\n",
              "        82.82,  86.29,  87.41,  85.1 ,  78.08,  76.06,  69.23,  69.04,\n",
              "        64.48,  65.73,  67.2 ,  70.25,  82.59,  92.12, 100.82,  95.23,\n",
              "        89.51,  82.84,  82.3 ,  83.76,  84.72,  83.91,  99.14, 101.6 ,\n",
              "       113.03, 119.54, 118.09, 107.32,  82.6 ,  77.4 ,  71.77,  71.25,\n",
              "        71.35,  73.62,  76.2 ,  74.15,  75.67,  79.2 ,  80.85,  85.33,\n",
              "        75.02,  77.95,  78.98,  76.55,  74.89,  70.  ,  81.53])"
            ]
          },
          "metadata": {},
          "execution_count": 28
        }
      ]
    },
    {
      "cell_type": "code",
      "source": [
        "#verificando a quantidade de NAN,\n",
        "# np.isnan(Kalinigrad)\n",
        "sum(np.isnan(Kalinigrad))"
      ],
      "metadata": {
        "colab": {
          "base_uri": "https://localhost:8080/"
        },
        "id": "USQJOgc9B7d3",
        "outputId": "64ca0405-cfb9-44a0-fb4f-e093286dcaa2"
      },
      "execution_count": null,
      "outputs": [
        {
          "output_type": "execute_result",
          "data": {
            "text/plain": [
              "1"
            ]
          },
          "metadata": {},
          "execution_count": 29
        }
      ]
    },
    {
      "cell_type": "code",
      "source": [
        "# Tratando valores nan, nesse caso substtuiremos pela média dos valores mais próximos\n",
        "Kalinigrad[4] = (Kalinigrad[3]+Kalinigrad[5])/2\n",
        "# ou np.mean([Kalinigrasd[3], Kalinigrad[5]])"
      ],
      "metadata": {
        "id": "rqbLzBPaDaQT"
      },
      "execution_count": null,
      "outputs": []
    },
    {
      "cell_type": "code",
      "source": [
        "sum(np.isnan(Kalinigrad))"
      ],
      "metadata": {
        "colab": {
          "base_uri": "https://localhost:8080/"
        },
        "id": "Zs6K86izDcf_",
        "outputId": "90bd0041-96cc-4940-e9ec-7686655aa7fc"
      },
      "execution_count": null,
      "outputs": [
        {
          "output_type": "execute_result",
          "data": {
            "text/plain": [
              "0"
            ]
          },
          "metadata": {},
          "execution_count": 31
        }
      ]
    },
    {
      "cell_type": "code",
      "source": [
        "plt.plot(datas, Kalinigrad)"
      ],
      "metadata": {
        "colab": {
          "base_uri": "https://localhost:8080/",
          "height": 447
        },
        "id": "EWov68uMDkbJ",
        "outputId": "fb997bc1-435b-4558-fc7b-ad4248fe9c28"
      },
      "execution_count": null,
      "outputs": [
        {
          "output_type": "execute_result",
          "data": {
            "text/plain": [
              "[<matplotlib.lines.Line2D at 0x7e9f6c0c0be0>]"
            ]
          },
          "metadata": {},
          "execution_count": 32
        },
        {
          "output_type": "display_data",
          "data": {
            "text/plain": [
              "<Figure size 640x480 with 1 Axes>"
            ],
            "image/png": "[encoded data removed]"
          },
          "metadata": {}
        }
      ]
    },
    {
      "cell_type": "code",
      "source": [
        "#apagar\n",
        "clientes = np.array([[1, 'João', 30, 'Rua A', 100, 'eletrônicos'],\n",
        "                     [2, 'Maria', 25, 'Rua B', 200, 'moda'],\n",
        "                     [3, 'Pedro', 35, 'Rua C', 50, 'esportes']])"
      ],
      "metadata": {
        "id": "fio7L_Nn9hkj"
      },
      "execution_count": null,
      "outputs": []
    },
    {
      "cell_type": "code",
      "source": [
        "#apagar\n",
        "ic = clientes[:,4:6]"
      ],
      "metadata": {
        "id": "aFS-EHql9krf"
      },
      "execution_count": null,
      "outputs": []
    },
    {
      "cell_type": "code",
      "source": [
        "ic"
      ],
      "metadata": {
        "colab": {
          "base_uri": "https://localhost:8080/"
        },
        "id": "NnIiQDJW9rfx",
        "outputId": "7085ca89-918a-4d5b-a31d-e6d701c2f92c"
      },
      "execution_count": null,
      "outputs": [
        {
          "output_type": "execute_result",
          "data": {
            "text/plain": [
              "array([['100', 'eletrônicos'],\n",
              "       ['200', 'moda'],\n",
              "       ['50', 'esportes']], dtype='<U21')"
            ]
          },
          "metadata": {},
          "execution_count": 35
        }
      ]
    },
    {
      "cell_type": "code",
      "source": [
        "# Comparando as médias dos precos\n",
        "np.mean(Moscow)"
      ],
      "metadata": {
        "colab": {
          "base_uri": "https://localhost:8080/"
        },
        "id": "33QH0A9XDpnC",
        "outputId": "84fb8050-a40c-41ca-c7e8-13f6df48f9f6"
      },
      "execution_count": null,
      "outputs": [
        {
          "output_type": "execute_result",
          "data": {
            "text/plain": [
              "98.79781609195402"
            ]
          },
          "metadata": {},
          "execution_count": 36
        }
      ]
    },
    {
      "cell_type": "code",
      "source": [
        "np.mean(Kalinigrad)"
      ],
      "metadata": {
        "colab": {
          "base_uri": "https://localhost:8080/"
        },
        "id": "dxUgJOvCD2-4",
        "outputId": "2324921e-cf5f-4839-897f-7b990dc52aba"
      },
      "execution_count": null,
      "outputs": [
        {
          "output_type": "execute_result",
          "data": {
            "text/plain": [
              "74.5506896551724"
            ]
          },
          "metadata": {},
          "execution_count": 37
        }
      ]
    },
    {
      "cell_type": "code",
      "source": [
        "np.arange(1, 88) # = np.arange(1, 88, 1)"
      ],
      "metadata": {
        "colab": {
          "base_uri": "https://localhost:8080/"
        },
        "id": "CFmKhJeBj4sY",
        "outputId": "ed0db928-1cf0-4b37-95b0-8765c7cbbc23"
      },
      "execution_count": null,
      "outputs": [
        {
          "output_type": "execute_result",
          "data": {
            "text/plain": [
              "array([ 1,  2,  3,  4,  5,  6,  7,  8,  9, 10, 11, 12, 13, 14, 15, 16, 17,\n",
              "       18, 19, 20, 21, 22, 23, 24, 25, 26, 27, 28, 29, 30, 31, 32, 33, 34,\n",
              "       35, 36, 37, 38, 39, 40, 41, 42, 43, 44, 45, 46, 47, 48, 49, 50, 51,\n",
              "       52, 53, 54, 55, 56, 57, 58, 59, 60, 61, 62, 63, 64, 65, 66, 67, 68,\n",
              "       69, 70, 71, 72, 73, 74, 75, 76, 77, 78, 79, 80, 81, 82, 83, 84, 85,\n",
              "       86, 87])"
            ]
          },
          "metadata": {},
          "execution_count": 38
        }
      ]
    },
    {
      "cell_type": "code",
      "source": [
        "lista = [1, 2, 3, 4, 5]"
      ],
      "metadata": {
        "id": "b0ZTrV4Ik4Gx"
      },
      "execution_count": null,
      "outputs": []
    },
    {
      "cell_type": "code",
      "source": [
        "#tranforma a lista em um array Numpy\n",
        "from numpy.core.multiarray import array\n",
        "array = np.array(lista)\n",
        "print('Lista: ', lista)\n",
        "print('Array: ', array)"
      ],
      "metadata": {
        "colab": {
          "base_uri": "https://localhost:8080/"
        },
        "id": "di4YpQy_p7T1",
        "outputId": "bc270f2a-c868-46fd-c99d-2fc226d0c709"
      },
      "execution_count": null,
      "outputs": [
        {
          "output_type": "stream",
          "name": "stdout",
          "text": [
            "Lista:  [1, 2, 3, 4, 5]\n",
            "Array:  [1 2 3 4 5]\n"
          ]
        }
      ]
    },
    {
      "cell_type": "markdown",
      "source": [
        "Vantagens em usar arrays Numpy\n",
        "\n",
        "\n",
        "*   Eficiência no processamento\n",
        "*   Facilidade de uso\n",
        "*   Integração com outras bibliotecas\n",
        "\n",
        "\n",
        "\n"
      ],
      "metadata": {
        "id": "N2tkqwi2qXt8"
      }
    },
    {
      "cell_type": "code",
      "source": [
        "import numpy as np\n",
        "import time\n",
        "\n",
        "# cria uma lista com 10000000 elementos\n",
        "lista = list(range(10000000))\n",
        "\n",
        "# transforma a lista em um array Numpy\n",
        "array = np.array(lista)\n",
        "\n",
        "# começa a cronometrar o tempo para a operação com a lista\n",
        "start_time = time.time()\n",
        "\n",
        "# realiza a operação de elevar ao quadrado cada elemento da lista\n",
        "lista_quadrado = [i**2 for i in lista]\n",
        "\n",
        "# para o cronômetro\n",
        "list_time = time.time() - start_time\n",
        "\n",
        "# começa a cronometrar o tempo para a operação com o array\n",
        "start_time = time.time()\n",
        "\n",
        "# realiza a operação de elevar ao quadrado cada elemento do array\n",
        "array_quadrado = array**2\n",
        "\n",
        "# para o cronômetro\n",
        "array_time = time.time() - start_time\n",
        "\n",
        "print(\"Tempo da operação com a lista: \", list_time)\n",
        "print(\"Tempo da operação com o array: \", array_time)"
      ],
      "metadata": {
        "colab": {
          "base_uri": "https://localhost:8080/"
        },
        "id": "FuInYPa6qC6d",
        "outputId": "a5bd2014-7ada-4e49-d188-d00bb5360877"
      },
      "execution_count": null,
      "outputs": [
        {
          "output_type": "stream",
          "name": "stdout",
          "text": [
            "Tempo da operação com a lista:  3.695420980453491\n",
            "Tempo da operação com o array:  0.03927326202392578\n"
          ]
        }
      ]
    },
    {
      "cell_type": "code",
      "source": [],
      "metadata": {
        "id": "n8G75RnCrGCC"
      },
      "execution_count": null,
      "outputs": []
    },
    {
      "cell_type": "markdown",
      "source": [
        "#Operações entre arrays"
      ],
      "metadata": {
        "id": "NwdBB77aUmkM"
      }
    },
    {
      "cell_type": "code",
      "source": [
        "plt.plot(datas, Moscow)"
      ],
      "metadata": {
        "colab": {
          "base_uri": "https://localhost:8080/",
          "height": 447
        },
        "id": "HSHl1SZQUpdN",
        "outputId": "5ba38b5c-57eb-4db9-96db-a3d93de03555"
      },
      "execution_count": null,
      "outputs": [
        {
          "output_type": "execute_result",
          "data": {
            "text/plain": [
              "[<matplotlib.lines.Line2D at 0x7e9f1434bb20>]"
            ]
          },
          "metadata": {},
          "execution_count": 42
        },
        {
          "output_type": "display_data",
          "data": {
            "text/plain": [
              "<Figure size 640x480 with 1 Axes>"
            ],
            "image/png": "[encoded data removed]"
          },
          "metadata": {}
        }
      ]
    },
    {
      "cell_type": "code",
      "source": [
        "# y = ax + b\n",
        "# y = preço das maçãs; x = meses\n",
        "x = datas\n",
        "y = 2 * x + 80"
      ],
      "metadata": {
        "id": "9LIexw9cWdGy"
      },
      "execution_count": null,
      "outputs": []
    },
    {
      "cell_type": "code",
      "source": [
        "plt.plot(datas, Moscow)\n",
        "plt.plot(x, y)"
      ],
      "metadata": {
        "colab": {
          "base_uri": "https://localhost:8080/",
          "height": 447
        },
        "id": "Fe0mDIZEYukr",
        "outputId": "f085e27b-9e0a-472e-d423-e889b3d7468f"
      },
      "execution_count": null,
      "outputs": [
        {
          "output_type": "execute_result",
          "data": {
            "text/plain": [
              "[<matplotlib.lines.Line2D at 0x7e9f09fcd030>]"
            ]
          },
          "metadata": {},
          "execution_count": 44
        },
        {
          "output_type": "display_data",
          "data": {
            "text/plain": [
              "<Figure size 640x480 with 1 Axes>"
            ],
            "image/png": "[encoded data removed]"
          },
          "metadata": {}
        }
      ]
    },
    {
      "cell_type": "code",
      "source": [
        "np.power(Moscow-y, 2)\n",
        "# elevo Moscow à 2° potencia"
      ],
      "metadata": {
        "colab": {
          "base_uri": "https://localhost:8080/"
        },
        "id": "Fvd3ZrHtY_9c",
        "outputId": "05044531-5c8f-441e-8349-9a1c53db995e"
      },
      "execution_count": null,
      "outputs": [
        {
          "output_type": "execute_result",
          "data": {
            "text/plain": [
              "array([5.19840000e+00, 8.52640000e+00, 3.99424000e+01, 6.72400000e+01,\n",
              "       8.77969000e+01, 1.25440000e+02, 1.88238400e+02, 2.89340100e+02,\n",
              "       4.50712900e+02, 5.71688100e+02, 6.57409600e+02, 7.20385600e+02,\n",
              "       8.12250000e+02, 8.39260900e+02, 8.83278400e+02, 1.02080250e+03,\n",
              "       1.28809210e+03, 1.52881000e+03, 1.62570240e+03, 1.93160250e+03,\n",
              "       2.15946090e+03, 2.56137210e+03, 2.26956960e+03, 1.50854560e+03,\n",
              "       6.03684900e+02, 7.38752400e+02, 1.07912250e+03, 1.39651690e+03,\n",
              "       1.44704160e+03, 1.82414410e+03, 1.88008960e+03, 1.57926760e+03,\n",
              "       1.88095690e+03, 2.43640960e+03, 2.79100890e+03, 2.90628810e+03,\n",
              "       2.59386490e+03, 2.09214760e+03, 2.22406560e+03, 2.27719840e+03,\n",
              "       2.59081000e+03, 2.90952360e+03, 2.73529000e+03, 3.03821440e+03,\n",
              "       4.61312640e+03, 5.84613160e+03, 6.83432890e+03, 7.39772010e+03,\n",
              "       7.49263360e+03, 7.48052010e+03, 7.81456000e+03, 8.13964840e+03,\n",
              "       7.58466810e+03, 4.38773760e+03, 3.64816000e+03, 4.10881000e+03,\n",
              "       6.31230250e+03, 8.85857440e+03, 9.78318810e+03, 9.34122250e+03,\n",
              "       9.10497640e+03, 9.21600000e+03, 8.29010250e+03, 7.53944890e+03,\n",
              "       7.65975040e+03, 7.12673640e+03, 6.74205210e+03, 7.50648960e+03,\n",
              "       1.29367876e+04, 1.60149025e+04, 1.66590649e+04, 1.63456225e+04,\n",
              "       1.61036100e+04, 1.56250000e+04, 1.60503561e+04, 1.66384201e+04,\n",
              "       1.60351569e+04, 1.41824281e+04, 1.27035441e+04, 1.34699236e+04,\n",
              "       1.66332609e+04, 2.01100761e+04, 2.19543489e+04, 2.15884249e+04,\n",
              "       2.14798336e+04, 2.06698129e+04, 2.06554384e+04])"
            ]
          },
          "metadata": {},
          "execution_count": 45
        }
      ]
    },
    {
      "cell_type": "code",
      "source": [
        "np.sum(np.power(Moscow-y, 2))"
      ],
      "metadata": {
        "colab": {
          "base_uri": "https://localhost:8080/"
        },
        "id": "9fk8tz5QZmcZ",
        "outputId": "fc30fb18-1071-4d18-e52b-982bdcd53824"
      },
      "execution_count": null,
      "outputs": [
        {
          "output_type": "execute_result",
          "data": {
            "text/plain": [
              "561349.9641"
            ]
          },
          "metadata": {},
          "execution_count": 46
        }
      ]
    },
    {
      "cell_type": "code",
      "source": [
        "np.sqrt(np.sum(np.power(Moscow-y, 2)))"
      ],
      "metadata": {
        "colab": {
          "base_uri": "https://localhost:8080/"
        },
        "id": "GUbI1Qc8aIpR",
        "outputId": "57bab614-6db2-4693-b33c-97fd3811e0fa"
      },
      "execution_count": null,
      "outputs": [
        {
          "output_type": "execute_result",
          "data": {
            "text/plain": [
              "749.2329171225728"
            ]
          },
          "metadata": {},
          "execution_count": 47
        }
      ]
    },
    {
      "cell_type": "code",
      "source": [
        "# chutando outro valor para y\n",
        "y = 0.52*x+80"
      ],
      "metadata": {
        "id": "Ps9Nkt3-aTHv"
      },
      "execution_count": null,
      "outputs": []
    },
    {
      "cell_type": "code",
      "source": [
        "plt.plot(datas, Moscow)\n",
        "plt.plot(x, y)"
      ],
      "metadata": {
        "colab": {
          "base_uri": "https://localhost:8080/",
          "height": 447
        },
        "id": "FNt8LSF3avd7",
        "outputId": "67b8d890-6f84-4d13-d04a-59f530511f06"
      },
      "execution_count": null,
      "outputs": [
        {
          "output_type": "execute_result",
          "data": {
            "text/plain": [
              "[<matplotlib.lines.Line2D at 0x7e9f6e594520>]"
            ]
          },
          "metadata": {},
          "execution_count": 49
        },
        {
          "output_type": "display_data",
          "data": {
            "text/plain": [
              "<Figure size 640x480 with 1 Axes>"
            ],
            "image/png": "[encoded data removed]"
          },
          "metadata": {}
        }
      ]
    },
    {
      "cell_type": "code",
      "source": [
        "np.sqrt(np.sum(np.power(Moscow-y, 2)))"
      ],
      "metadata": {
        "colab": {
          "base_uri": "https://localhost:8080/"
        },
        "id": "RyQX79Abaw4M",
        "outputId": "f87ec589-a6a0-493c-e18b-7774b2f9a78d"
      },
      "execution_count": null,
      "outputs": [
        {
          "output_type": "execute_result",
          "data": {
            "text/plain": [
              "110.48504740461489"
            ]
          },
          "metadata": {},
          "execution_count": 50
        }
      ]
    },
    {
      "cell_type": "code",
      "source": [
        "np.linalg.norm(Moscow-y)"
      ],
      "metadata": {
        "colab": {
          "base_uri": "https://localhost:8080/"
        },
        "id": "BCHT9_RHa3mE",
        "outputId": "ab2e34f5-f054-4fc6-c975-a2adc06a3e3e"
      },
      "execution_count": null,
      "outputs": [
        {
          "output_type": "execute_result",
          "data": {
            "text/plain": [
              "110.48504740461489"
            ]
          },
          "metadata": {},
          "execution_count": 51
        }
      ]
    },
    {
      "cell_type": "code",
      "source": [],
      "metadata": {
        "id": "S4rrJLujbHwP"
      },
      "execution_count": null,
      "outputs": []
    },
    {
      "cell_type": "code",
      "source": [],
      "metadata": {
        "id": "en7OV1n2-YYx"
      },
      "execution_count": null,
      "outputs": []
    },
    {
      "cell_type": "markdown",
      "source": [
        "Copias de arrays"
      ],
      "metadata": {
        "id": "i5r7-Q-o_arN"
      }
    },
    {
      "cell_type": "code",
      "source": [
        "preco_imoveis = np.array([10000,120000,11000,200000])\n",
        "preco_imoveis"
      ],
      "metadata": {
        "colab": {
          "base_uri": "https://localhost:8080/"
        },
        "id": "qdjEHfW8_cHS",
        "outputId": "961afe1c-38fa-49f6-fc0a-0c2fa5aa23b4"
      },
      "execution_count": null,
      "outputs": [
        {
          "output_type": "execute_result",
          "data": {
            "text/plain": [
              "array([ 10000, 120000,  11000, 200000])"
            ]
          },
          "metadata": {},
          "execution_count": 52
        }
      ]
    },
    {
      "cell_type": "code",
      "source": [
        "preco_imoveis_sao_paulo = preco_imoveis"
      ],
      "metadata": {
        "id": "awBiuohc_fj2"
      },
      "execution_count": null,
      "outputs": []
    },
    {
      "cell_type": "code",
      "source": [
        "preco_imoveis[0] = 120000"
      ],
      "metadata": {
        "id": "B5G4XionAlKD"
      },
      "execution_count": null,
      "outputs": []
    },
    {
      "cell_type": "code",
      "source": [
        "preco_imoveis"
      ],
      "metadata": {
        "colab": {
          "base_uri": "https://localhost:8080/"
        },
        "id": "6Y6uUDDwBQvp",
        "outputId": "c18fc535-8d4d-46a8-eff1-02a96fc7c314"
      },
      "execution_count": null,
      "outputs": [
        {
          "output_type": "execute_result",
          "data": {
            "text/plain": [
              "array([120000, 120000,  11000, 200000])"
            ]
          },
          "metadata": {},
          "execution_count": 55
        }
      ]
    },
    {
      "cell_type": "code",
      "source": [
        "preco_imoveis[0] = 15"
      ],
      "metadata": {
        "id": "NuC4-9vaBYfX"
      },
      "execution_count": null,
      "outputs": []
    },
    {
      "cell_type": "code",
      "source": [
        "preco_imoveis_sao_paulo"
      ],
      "metadata": {
        "colab": {
          "base_uri": "https://localhost:8080/"
        },
        "id": "yHeoeOLcAmZL",
        "outputId": "db361f22-b8cd-457a-f929-e884600bf724"
      },
      "execution_count": null,
      "outputs": [
        {
          "output_type": "execute_result",
          "data": {
            "text/plain": [
              "array([    15, 120000,  11000, 200000])"
            ]
          },
          "metadata": {},
          "execution_count": 57
        }
      ]
    },
    {
      "cell_type": "markdown",
      "source": [
        "Para criar um array desvinculado do array original (apontando para outro local na memória) existe uma função da numpy, a np.copy().\n",
        "Se criarmos uma copia com ( = ), o novo array apontará para o mesmo espaço na memória."
      ],
      "metadata": {
        "id": "iqnju9KvA6_D"
      }
    },
    {
      "cell_type": "code",
      "source": [
        "preco_imoveis_sao_paulo = np.copy(preco_imoveis)"
      ],
      "metadata": {
        "id": "5q3FRyGkAwPV"
      },
      "execution_count": null,
      "outputs": []
    },
    {
      "cell_type": "code",
      "source": [
        "preco_imoveis"
      ],
      "metadata": {
        "colab": {
          "base_uri": "https://localhost:8080/"
        },
        "id": "-dRyf4fGBALv",
        "outputId": "73521a3c-91b9-4d61-9cc5-b5e9add78bea"
      },
      "execution_count": null,
      "outputs": [
        {
          "output_type": "execute_result",
          "data": {
            "text/plain": [
              "array([    15, 120000,  11000, 200000])"
            ]
          },
          "metadata": {},
          "execution_count": 59
        }
      ]
    },
    {
      "cell_type": "code",
      "source": [
        "preco_imoveis_sao_paulo"
      ],
      "metadata": {
        "colab": {
          "base_uri": "https://localhost:8080/"
        },
        "id": "GtW9B1IbBHow",
        "outputId": "a4c66bef-96a0-4d1b-d30a-61d7070d6193"
      },
      "execution_count": null,
      "outputs": [
        {
          "output_type": "execute_result",
          "data": {
            "text/plain": [
              "array([    15, 120000,  11000, 200000])"
            ]
          },
          "metadata": {},
          "execution_count": 60
        }
      ]
    },
    {
      "cell_type": "code",
      "source": [],
      "metadata": {
        "id": "5uLPuG4vJDex"
      },
      "execution_count": null,
      "outputs": []
    },
    {
      "cell_type": "markdown",
      "source": [],
      "metadata": {
        "id": "FJYpmb4lMADQ"
      }
    },
    {
      "cell_type": "markdown",
      "source": [
        "#Regressão linear\n",
        "Serve para ajustar uma reta aos dados da melhor maneira possível\n",
        "Coeficiente angular\n",
        "\n",
        "a = Coeficiente angular;\n",
        "n = núm de elementos;\n",
        "Y = Moscow;\n",
        "X = datas.\n",
        "a = (n*np.sum(X*Y) - np.sum(X)*np.sum(Y))/(n*np.sum(X**2) - np.sum(x)**2)"
      ],
      "metadata": {
        "id": "1fDAAOWPJuMY"
      }
    },
    {
      "cell_type": "code",
      "source": [
        "Y = Moscow\n",
        "X = datas\n",
        "n = np.size(Moscow)"
      ],
      "metadata": {
        "id": "NQwRB7ZKBNl5"
      },
      "execution_count": null,
      "outputs": []
    },
    {
      "cell_type": "code",
      "source": [
        "X**2"
      ],
      "metadata": {
        "colab": {
          "base_uri": "https://localhost:8080/"
        },
        "id": "3w5YLd6WKN0-",
        "outputId": "381d700c-15e7-413a-b1f5-3128ffa49ac3"
      },
      "execution_count": null,
      "outputs": [
        {
          "output_type": "execute_result",
          "data": {
            "text/plain": [
              "array([   1,    4,    9,   16,   25,   36,   49,   64,   81,  100,  121,\n",
              "        144,  169,  196,  225,  256,  289,  324,  361,  400,  441,  484,\n",
              "        529,  576,  625,  676,  729,  784,  841,  900,  961, 1024, 1089,\n",
              "       1156, 1225, 1296, 1369, 1444, 1521, 1600, 1681, 1764, 1849, 1936,\n",
              "       2025, 2116, 2209, 2304, 2401, 2500, 2601, 2704, 2809, 2916, 3025,\n",
              "       3136, 3249, 3364, 3481, 3600, 3721, 3844, 3969, 4096, 4225, 4356,\n",
              "       4489, 4624, 4761, 4900, 5041, 5184, 5329, 5476, 5625, 5776, 5929,\n",
              "       6084, 6241, 6400, 6561, 6724, 6889, 7056, 7225, 7396, 7569])"
            ]
          },
          "metadata": {},
          "execution_count": 62
        }
      ]
    },
    {
      "cell_type": "code",
      "source": [
        "# a é a derivada da reta linear\n",
        "a = (n*np.sum(X*Y) - np.sum(X)*np.sum(Y))/(n*np.sum(X**2) - np.sum(x)**2)\n",
        "a"
      ],
      "metadata": {
        "colab": {
          "base_uri": "https://localhost:8080/"
        },
        "id": "9klAI9ogKXSJ",
        "outputId": "496d7e63-cd0a-4a32-e493-b3ee704d35dc"
      },
      "execution_count": null,
      "outputs": [
        {
          "output_type": "execute_result",
          "data": {
            "text/plain": [
              "0.43520212145512926"
            ]
          },
          "metadata": {},
          "execution_count": 63
        }
      ]
    },
    {
      "cell_type": "markdown",
      "source": [
        "Coeficiente linear"
      ],
      "metadata": {
        "id": "y3PZCxlNLJuA"
      }
    },
    {
      "cell_type": "code",
      "source": [
        "b = np.mean(Y) - a*np.mean(X)\n",
        "b"
      ],
      "metadata": {
        "colab": {
          "base_uri": "https://localhost:8080/"
        },
        "id": "_GHZydVjK9s-",
        "outputId": "4d4fbabb-a777-4754-8110-f4a8e34b68ab"
      },
      "execution_count": null,
      "outputs": [
        {
          "output_type": "execute_result",
          "data": {
            "text/plain": [
              "79.64892274792834"
            ]
          },
          "metadata": {},
          "execution_count": 64
        }
      ]
    },
    {
      "cell_type": "code",
      "source": [
        "y = a*x + b"
      ],
      "metadata": {
        "id": "gL_XwtehLXQT"
      },
      "execution_count": null,
      "outputs": []
    },
    {
      "cell_type": "code",
      "source": [
        "np.linalg.norm(Moscow-y)"
      ],
      "metadata": {
        "colab": {
          "base_uri": "https://localhost:8080/"
        },
        "id": "RpU57BSLLcxb",
        "outputId": "bb06b28e-77a8-48d1-db51-f400d3c017c1"
      },
      "execution_count": null,
      "outputs": [
        {
          "output_type": "execute_result",
          "data": {
            "text/plain": [
              "101.7969539992751"
            ]
          },
          "metadata": {},
          "execution_count": 66
        }
      ]
    },
    {
      "cell_type": "code",
      "source": [
        "# mostrando qual o valor da data (x) no conjunto de dados\n",
        "plt.plot(datas, Moscow)\n",
        "plt.plot(x, y)\n",
        "plt.plot(53.5, 53.5*a+b, '*r')"
      ],
      "metadata": {
        "colab": {
          "base_uri": "https://localhost:8080/",
          "height": 447
        },
        "id": "1sI30bs4LtKP",
        "outputId": "751b0a81-c584-43f9-e410-be5611528cdc"
      },
      "execution_count": null,
      "outputs": [
        {
          "output_type": "execute_result",
          "data": {
            "text/plain": [
              "[<matplotlib.lines.Line2D at 0x7e9f09ec1f30>]"
            ]
          },
          "metadata": {},
          "execution_count": 67
        },
        {
          "output_type": "display_data",
          "data": {
            "text/plain": [
              "<Figure size 640x480 with 1 Axes>"
            ],
            "image/png": "[encoded data removed]"
          },
          "metadata": {}
        }
      ]
    },
    {
      "cell_type": "code",
      "source": [
        "#estimando valores fora do inervalo X\n",
        "plt.plot(datas, Moscow)\n",
        "plt.plot(x, y)\n",
        "plt.plot(100, 100*a+b, '*r')"
      ],
      "metadata": {
        "colab": {
          "base_uri": "https://localhost:8080/",
          "height": 447
        },
        "id": "SQiBJXNGOs9D",
        "outputId": "937649a3-475e-4764-a037-5481e793cbf1"
      },
      "execution_count": null,
      "outputs": [
        {
          "output_type": "execute_result",
          "data": {
            "text/plain": [
              "[<matplotlib.lines.Line2D at 0x7e9f09f32da0>]"
            ]
          },
          "metadata": {},
          "execution_count": 68
        },
        {
          "output_type": "display_data",
          "data": {
            "text/plain": [
              "<Figure size 640x480 with 1 Axes>"
            ],
            "image/png": "[encoded data removed]"
          },
          "metadata": {}
        }
      ]
    },
    {
      "cell_type": "code",
      "source": [],
      "metadata": {
        "id": "2TWAMAGaPZF_"
      },
      "execution_count": null,
      "outputs": []
    },
    {
      "cell_type": "markdown",
      "source": [
        "#Núm aleatorios\n",
        "Valores em um intervalo"
      ],
      "metadata": {
        "id": "lSwyJOlTp5-b"
      }
    },
    {
      "cell_type": "code",
      "source": [
        "#gerando num inteiros aleatorios\n",
        "#low: low e high é o intervalor, size é a quantidade.\n",
        "np.random.randint(low=40, high=100, size=100)"
      ],
      "metadata": {
        "colab": {
          "base_uri": "https://localhost:8080/"
        },
        "id": "UE55tRPFp-2i",
        "outputId": "f323bfa1-ef25-4bc9-ef1a-8967afbd6a43"
      },
      "execution_count": null,
      "outputs": [
        {
          "output_type": "execute_result",
          "data": {
            "text/plain": [
              "array([90, 65, 88, 96, 43, 88, 68, 49, 68, 42, 60, 48, 84, 99, 96, 62, 70,\n",
              "       68, 97, 75, 65, 94, 68, 80, 88, 69, 90, 64, 91, 84, 42, 76, 54, 53,\n",
              "       75, 61, 82, 82, 53, 64, 58, 55, 97, 90, 43, 57, 42, 90, 76, 70, 64,\n",
              "       82, 87, 46, 97, 75, 88, 62, 81, 97, 81, 52, 47, 53, 96, 84, 60, 56,\n",
              "       80, 78, 58, 78, 65, 63, 79, 71, 60, 76, 62, 54, 94, 84, 56, 58, 91,\n",
              "       55, 80, 80, 67, 81, 48, 71, 53, 93, 81, 90, 79, 83, 41, 43])"
            ]
          },
          "metadata": {},
          "execution_count": 69
        }
      ]
    },
    {
      "cell_type": "code",
      "source": [
        "# #gerando num reais aleatorios\n",
        "coef_angulares = np.random.uniform(low=0.10, high=0.90, size=100)"
      ],
      "metadata": {
        "id": "3SE22vu8qPfT"
      },
      "execution_count": null,
      "outputs": []
    },
    {
      "cell_type": "code",
      "source": [
        "# Calculando o valor da norma dos coeficientes angulares\n",
        "for i in range(100):\n",
        "    print(np.linalg.norm(Moscow-(coef_angulares[i]*X+b)))"
      ],
      "metadata": {
        "id": "BGq3FPmyrM_y",
        "colab": {
          "base_uri": "https://localhost:8080/"
        },
        "outputId": "b67824e0-bdbe-45c2-e886-ef02555df47f"
      },
      "execution_count": null,
      "outputs": [
        {
          "output_type": "stream",
          "name": "stdout",
          "text": [
            "190.2375451786355\n",
            "126.08230267000803\n",
            "158.93742417102487\n",
            "223.95499771471697\n",
            "110.05969389622045\n",
            "124.26194282022773\n",
            "235.49036693554544\n",
            "175.31094327750725\n",
            "108.28353214760702\n",
            "117.51009319565803\n",
            "102.47252097691565\n",
            "132.59969455844913\n",
            "105.29876442171329\n",
            "222.420165005957\n",
            "136.5047042542113\n",
            "212.42796885166095\n",
            "132.55156417823707\n",
            "149.46524208686873\n",
            "159.98871754775516\n",
            "220.4952515465934\n",
            "152.46848483318192\n",
            "102.15190764965297\n",
            "221.78116553053502\n",
            "105.29464885692609\n",
            "108.96704747634908\n",
            "102.55367186453005\n",
            "189.76634509641985\n",
            "111.32275694998822\n",
            "122.65543145270011\n",
            "228.25873638037905\n",
            "238.73000899193573\n",
            "187.91072722304804\n",
            "155.89128361683132\n",
            "230.61366449657712\n",
            "158.75771498605104\n",
            "192.49034969677226\n",
            "204.09942789649588\n",
            "147.6725905287772\n",
            "186.85163038584568\n",
            "158.43889593043693\n",
            "137.88212071827377\n",
            "186.80269554929566\n",
            "155.93222362495553\n",
            "110.36427892682548\n",
            "138.25848581604603\n",
            "164.56940085416713\n",
            "137.63648669766553\n",
            "178.20360454621556\n",
            "232.64538840731313\n",
            "110.0011004935318\n",
            "209.5446368751185\n",
            "177.24574427256255\n",
            "165.3541947231664\n",
            "219.8786130909298\n",
            "155.1638797385677\n",
            "214.36954402263808\n",
            "240.5794881503838\n",
            "119.8253289841398\n",
            "187.45214135941285\n",
            "170.6176603784421\n",
            "128.99685744479407\n",
            "103.84770014375846\n",
            "107.37212330113618\n",
            "140.45372983321658\n",
            "145.99559206394272\n",
            "158.58939785191234\n",
            "144.52590314573274\n",
            "139.73124447380278\n",
            "120.0701515792779\n",
            "139.79270728931107\n",
            "107.55090547531276\n",
            "105.33293771574363\n",
            "138.34123956133845\n",
            "125.59439567981913\n",
            "178.13003904996074\n",
            "164.62675837650625\n",
            "118.5281257494233\n",
            "110.05789979201275\n",
            "227.7111319968572\n",
            "122.94176906561198\n",
            "185.1813134626216\n",
            "102.07369325861775\n",
            "101.89806161426358\n",
            "146.90838605312476\n",
            "141.3460917066234\n",
            "102.01158191700321\n",
            "206.21167953896216\n",
            "119.77119910524905\n",
            "101.97140949041103\n",
            "151.76946735665572\n",
            "139.51505401856724\n",
            "146.00281663730894\n",
            "189.1627739760092\n",
            "195.13304026214126\n",
            "107.84152318820895\n",
            "133.12348196915315\n",
            "116.09027647276396\n",
            "185.91382082050234\n",
            "153.25734560584192\n",
            "132.83121843594657\n"
          ]
        }
      ]
    },
    {
      "cell_type": "code",
      "source": [
        "#para armazenar os valores criados no arrey acima\n",
        "norma = np.array([])\n",
        "for i in range(100):\n",
        "    norma = np.append(norma, np.linalg.norm(Moscow-(coef_angulares[i]*X+b)))"
      ],
      "metadata": {
        "id": "nNkQcJMwrzy5"
      },
      "execution_count": null,
      "outputs": []
    },
    {
      "cell_type": "code",
      "source": [
        "norma"
      ],
      "metadata": {
        "id": "XpwexsLes0Tl",
        "colab": {
          "base_uri": "https://localhost:8080/"
        },
        "outputId": "9d21d064-76c0-433c-ee6b-4d91eea9badc"
      },
      "execution_count": null,
      "outputs": [
        {
          "output_type": "execute_result",
          "data": {
            "text/plain": [
              "array([190.23754518, 126.08230267, 158.93742417, 223.95499771,\n",
              "       110.0596939 , 124.26194282, 235.49036694, 175.31094328,\n",
              "       108.28353215, 117.5100932 , 102.47252098, 132.59969456,\n",
              "       105.29876442, 222.42016501, 136.50470425, 212.42796885,\n",
              "       132.55156418, 149.46524209, 159.98871755, 220.49525155,\n",
              "       152.46848483, 102.15190765, 221.78116553, 105.29464886,\n",
              "       108.96704748, 102.55367186, 189.7663451 , 111.32275695,\n",
              "       122.65543145, 228.25873638, 238.73000899, 187.91072722,\n",
              "       155.89128362, 230.6136645 , 158.75771499, 192.4903497 ,\n",
              "       204.0994279 , 147.67259053, 186.85163039, 158.43889593,\n",
              "       137.88212072, 186.80269555, 155.93222362, 110.36427893,\n",
              "       138.25848582, 164.56940085, 137.6364867 , 178.20360455,\n",
              "       232.64538841, 110.00110049, 209.54463688, 177.24574427,\n",
              "       165.35419472, 219.87861309, 155.16387974, 214.36954402,\n",
              "       240.57948815, 119.82532898, 187.45214136, 170.61766038,\n",
              "       128.99685744, 103.84770014, 107.3721233 , 140.45372983,\n",
              "       145.99559206, 158.58939785, 144.52590315, 139.73124447,\n",
              "       120.07015158, 139.79270729, 107.55090548, 105.33293772,\n",
              "       138.34123956, 125.59439568, 178.13003905, 164.62675838,\n",
              "       118.52812575, 110.05789979, 227.711132  , 122.94176907,\n",
              "       185.18131346, 102.07369326, 101.89806161, 146.90838605,\n",
              "       141.34609171, 102.01158192, 206.21167954, 119.77119911,\n",
              "       101.97140949, 151.76946736, 139.51505402, 146.00281664,\n",
              "       189.16277398, 195.13304026, 107.84152319, 133.12348197,\n",
              "       116.09027647, 185.91382082, 153.25734561, 132.83121844])"
            ]
          },
          "metadata": {},
          "execution_count": 73
        }
      ]
    },
    {
      "cell_type": "code",
      "source": [
        "coef_angulares[4]"
      ],
      "metadata": {
        "colab": {
          "base_uri": "https://localhost:8080/"
        },
        "id": "Km4MlYZntYhF",
        "outputId": "5daa4751-9ea9-4fda-b8c2-766f5a416475"
      },
      "execution_count": null,
      "outputs": [
        {
          "output_type": "execute_result",
          "data": {
            "text/plain": [
              "0.346662282531766"
            ]
          },
          "metadata": {},
          "execution_count": 74
        }
      ]
    },
    {
      "cell_type": "markdown",
      "source": [
        "Reprodutibilidade"
      ],
      "metadata": {
        "id": "3koDKpZAuZT6"
      }
    },
    {
      "cell_type": "code",
      "source": [
        "np.random.uniform(low=0.10, high=0.90, size=100)"
      ],
      "metadata": {
        "colab": {
          "base_uri": "https://localhost:8080/"
        },
        "id": "T-Igl6gKtigu",
        "outputId": "8d742ee4-6234-48c8-bbaf-f4671bc6019e"
      },
      "execution_count": null,
      "outputs": [
        {
          "output_type": "execute_result",
          "data": {
            "text/plain": [
              "array([0.23948642, 0.55743411, 0.29032516, 0.41995806, 0.7101336 ,\n",
              "       0.49581807, 0.69516888, 0.38716279, 0.33988648, 0.34934043,\n",
              "       0.60345454, 0.12435142, 0.68268967, 0.83137783, 0.888032  ,\n",
              "       0.66534827, 0.68985407, 0.79878718, 0.63741071, 0.49247389,\n",
              "       0.19795449, 0.48994691, 0.72694852, 0.78892996, 0.62260062,\n",
              "       0.73617729, 0.63376685, 0.55329438, 0.19139514, 0.23732804,\n",
              "       0.45600195, 0.12676584, 0.29209125, 0.62521822, 0.1256645 ,\n",
              "       0.10934126, 0.59398276, 0.50227832, 0.67771211, 0.20500846,\n",
              "       0.44943675, 0.21372739, 0.78684342, 0.52949931, 0.12974984,\n",
              "       0.77553197, 0.41286441, 0.29206503, 0.19745284, 0.27653755,\n",
              "       0.84670156, 0.32307098, 0.30949592, 0.86101734, 0.62876565,\n",
              "       0.87920299, 0.60950033, 0.59007673, 0.28891273, 0.24419821,\n",
              "       0.67963183, 0.59104031, 0.52656483, 0.46234958, 0.14895176,\n",
              "       0.55515816, 0.58633933, 0.40099676, 0.35607419, 0.44820281,\n",
              "       0.13205095, 0.38682199, 0.4754223 , 0.52305293, 0.49648595,\n",
              "       0.11252972, 0.20530378, 0.25867028, 0.75267738, 0.26610174,\n",
              "       0.27051355, 0.54900183, 0.69489372, 0.41464887, 0.85402905,\n",
              "       0.49187327, 0.10647961, 0.30102108, 0.34794527, 0.52119487,\n",
              "       0.69203771, 0.84450401, 0.25106072, 0.36184766, 0.46353178,\n",
              "       0.77322004, 0.18705105, 0.61303021, 0.48143002, 0.78407585])"
            ]
          },
          "metadata": {},
          "execution_count": 75
        }
      ]
    },
    {
      "cell_type": "code",
      "source": [
        "np.random.seed(16)\n",
        "np.random.uniform(low=0.10, high=0.90, size=100)"
      ],
      "metadata": {
        "colab": {
          "base_uri": "https://localhost:8080/"
        },
        "id": "c-bacMrUumFQ",
        "outputId": "07986667-ef48-42ae-fd22-f944140a6853"
      },
      "execution_count": null,
      "outputs": [
        {
          "output_type": "execute_result",
          "data": {
            "text/plain": [
              "array([0.27863286, 0.51853067, 0.54056117, 0.13648156, 0.38858307,\n",
              "       0.27846475, 0.65098093, 0.23098514, 0.15625989, 0.85280869,\n",
              "       0.5509451 , 0.16239387, 0.67811241, 0.22676174, 0.30022505,\n",
              "       0.3347898 , 0.65728857, 0.47141127, 0.27204971, 0.45746101,\n",
              "       0.196703  , 0.83414961, 0.55315706, 0.47761545, 0.35165314,\n",
              "       0.13457258, 0.70195593, 0.53461524, 0.71375234, 0.73235901,\n",
              "       0.1577771 , 0.62777267, 0.14263947, 0.64801956, 0.45468077,\n",
              "       0.47439692, 0.62884747, 0.65197331, 0.31066359, 0.10918315,\n",
              "       0.71703556, 0.75291386, 0.21171328, 0.5624054 , 0.37253942,\n",
              "       0.28577239, 0.258915  , 0.31719262, 0.88148221, 0.27234318,\n",
              "       0.38512593, 0.11471996, 0.59343222, 0.28432431, 0.69388139,\n",
              "       0.56740017, 0.43608284, 0.66740227, 0.87763642, 0.74803129,\n",
              "       0.44452414, 0.86618288, 0.13820648, 0.68622544, 0.64053316,\n",
              "       0.52160413, 0.55358996, 0.6783562 , 0.64608268, 0.73625014,\n",
              "       0.19027642, 0.25933011, 0.67705538, 0.41509386, 0.37134832,\n",
              "       0.22275655, 0.18045921, 0.42579769, 0.56633237, 0.69257642,\n",
              "       0.79628867, 0.87322093, 0.46445188, 0.4203384 , 0.3391517 ,\n",
              "       0.76268805, 0.82787294, 0.71290934, 0.15465183, 0.58482122,\n",
              "       0.85137291, 0.18171413, 0.88203161, 0.38535098, 0.62334973,\n",
              "       0.19822857, 0.86908175, 0.62094514, 0.84934225, 0.82706184])"
            ]
          },
          "metadata": {},
          "execution_count": 76
        }
      ]
    },
    {
      "cell_type": "code",
      "source": [
        "np.random.seed(84)\n",
        "coef_angulares = np.random.uniform(low=0.10, high=0.90, size=100)\n",
        "norma = np.array([])\n",
        "for i in range(100):\n",
        "    norma = np.append(norma, np.linalg.norm(Moscow-(coef_angulares[i]*X+b)))"
      ],
      "metadata": {
        "id": "WDUKcw77u9iD"
      },
      "execution_count": null,
      "outputs": []
    },
    {
      "cell_type": "code",
      "source": [
        "norma"
      ],
      "metadata": {
        "colab": {
          "base_uri": "https://localhost:8080/"
        },
        "id": "azug0sNDxOo2",
        "outputId": "b288287d-a4f6-44b4-889d-4e9a89d8ca3a"
      },
      "execution_count": null,
      "outputs": [
        {
          "output_type": "execute_result",
          "data": {
            "text/plain": [
              "array([173.90151233, 103.45241986, 121.75367289, 128.97173036,\n",
              "       238.69504078, 149.16590195, 137.73123242, 118.54419212,\n",
              "       101.79720981, 149.04689147, 112.80225228, 105.8049351 ,\n",
              "       230.82444742, 111.69709582, 134.56525603, 110.93209631,\n",
              "       204.12484401, 196.82117307, 221.88687726, 156.13691054,\n",
              "       125.51272174, 136.46474504, 165.39506278, 240.68784732,\n",
              "       104.52254473, 188.75637903, 131.2292927 , 128.94885341,\n",
              "       234.70773582, 147.01799832, 113.7418054 , 116.94496221,\n",
              "       109.58257043, 107.09546548, 145.00728041, 182.83818792,\n",
              "       140.95017242, 106.12371866, 107.0915778 , 132.45242448,\n",
              "       144.8736358 , 143.54772697, 240.23793834, 113.74604121,\n",
              "       116.01191029, 152.02977343, 174.72333708, 141.8068161 ,\n",
              "       101.93467119, 103.01538109, 169.59787792, 128.13083711,\n",
              "       105.06648948, 101.83421597, 102.53716362, 113.63850533,\n",
              "       219.96993004, 117.37921502, 182.70217805, 146.69612581,\n",
              "       178.64742004, 132.25425967, 109.74998636, 186.49825034,\n",
              "       104.98272763, 133.73791912, 182.82613374, 235.49081018,\n",
              "       179.79275527, 228.72013359, 184.2584889 , 114.02435937,\n",
              "       124.95415977, 187.42082714, 105.18421164, 102.1005486 ,\n",
              "       135.72717949, 107.19212075, 114.07766563, 225.76351056,\n",
              "       103.96340568, 118.21130391, 109.96158846, 181.54233309,\n",
              "       114.09828878, 118.61778913, 224.37792949, 153.50523694,\n",
              "       185.44994519, 117.35423938, 151.19534147, 118.44720795,\n",
              "       112.26379208, 104.60483872, 123.8587347 , 111.40038324,\n",
              "       102.05294074, 150.97459646, 108.76787533, 107.97542886])"
            ]
          },
          "metadata": {},
          "execution_count": 78
        }
      ]
    },
    {
      "cell_type": "code",
      "source": [
        "coef_angulares"
      ],
      "metadata": {
        "colab": {
          "base_uri": "https://localhost:8080/"
        },
        "id": "fAAZco4ZxbSx",
        "outputId": "d3dede01-0d34-4b7b-f1c2-63c8b6a6b6c6"
      },
      "execution_count": null,
      "outputs": [
        {
          "output_type": "execute_result",
          "data": {
            "text/plain": [
              "array([0.13683279, 0.39619385, 0.29385461, 0.602784  , 0.89208805,\n",
              "       0.20447044, 0.23887133, 0.30665125, 0.43471917, 0.20481511,\n",
              "       0.3323601 , 0.49624488, 0.87360345, 0.33791189, 0.62144155,\n",
              "       0.52849032, 0.8096211 , 0.7916786 , 0.85242626, 0.18466651,\n",
              "       0.59057786, 0.24287265, 0.15934165, 0.89674619, 0.38501918,\n",
              "       0.77157959, 0.61045713, 0.2676991 , 0.88274155, 0.21072909,\n",
              "       0.54257849, 0.3133875 , 0.34935345, 0.36479868, 0.21666475,\n",
              "       0.75660734, 0.22889395, 0.4986747 , 0.36482516, 0.25587381,\n",
              "       0.21706205, 0.64938079, 0.89569528, 0.32780566, 0.55295355,\n",
              "       0.19624604, 0.13469036, 0.22628157, 0.44641143, 0.40177235,\n",
              "       0.1481411 , 0.59986997, 0.49023732, 0.4293729 , 0.46122788,\n",
              "       0.54208756, 0.84785549, 0.31153122, 0.11414346, 0.65873013,\n",
              "       0.74587422, 0.61387426, 0.52200325, 0.76589084, 0.38088747,\n",
              "       0.25165091, 0.11382762, 0.88457997, 0.74881915, 0.86863621,\n",
              "       0.11018484, 0.32649201, 0.28185578, 0.10218576, 0.37916895,\n",
              "       0.45185191, 0.24522431, 0.50626125, 0.32624184, 0.86163791,\n",
              "       0.4798819 , 0.30803145, 0.34720986, 0.11710349, 0.32614518,\n",
              "       0.30634758, 0.85835026, 0.67834579, 0.76324004, 0.55876684,\n",
              "       0.19862885, 0.56335202, 0.53537079, 0.48614717, 0.58451562,\n",
              "       0.53095673, 0.45048903, 0.67114321, 0.35412587, 0.35901695])"
            ]
          },
          "metadata": {},
          "execution_count": 79
        }
      ]
    },
    {
      "cell_type": "markdown",
      "source": [
        "Função np.column_stack: Une dois ou mais arrays, lado a lado, como colunas em uma matriz"
      ],
      "metadata": {
        "id": "3nggh8ybxxxB"
      }
    },
    {
      "cell_type": "code",
      "source": [
        "norma.shape"
      ],
      "metadata": {
        "colab": {
          "base_uri": "https://localhost:8080/"
        },
        "id": "DUaYqfB7yzaS",
        "outputId": "e92faa80-7e8e-4a9f-8b4e-81b19575d4d8"
      },
      "execution_count": null,
      "outputs": [
        {
          "output_type": "execute_result",
          "data": {
            "text/plain": [
              "(100,)"
            ]
          },
          "metadata": {},
          "execution_count": 80
        }
      ]
    },
    {
      "cell_type": "code",
      "source": [
        "coef_angulares.shape"
      ],
      "metadata": {
        "colab": {
          "base_uri": "https://localhost:8080/"
        },
        "id": "4tPKz0HSy34S",
        "outputId": "d5a7319a-042b-4a9c-9cc4-62f484e144f2"
      },
      "execution_count": null,
      "outputs": [
        {
          "output_type": "execute_result",
          "data": {
            "text/plain": [
              "(100,)"
            ]
          },
          "metadata": {},
          "execution_count": 81
        }
      ]
    },
    {
      "cell_type": "code",
      "source": [
        "dados = np.column_stack([norma, coef_angulares])"
      ],
      "metadata": {
        "id": "BZ2rfQzmxfui"
      },
      "execution_count": null,
      "outputs": []
    },
    {
      "cell_type": "code",
      "source": [
        "dados.shape"
      ],
      "metadata": {
        "colab": {
          "base_uri": "https://localhost:8080/"
        },
        "id": "_JGhKc9XyIuP",
        "outputId": "91f7fb67-b664-45b5-88ed-c6f4a701031c"
      },
      "execution_count": null,
      "outputs": [
        {
          "output_type": "execute_result",
          "data": {
            "text/plain": [
              "(100, 2)"
            ]
          },
          "metadata": {},
          "execution_count": 83
        }
      ]
    },
    {
      "cell_type": "markdown",
      "source": [
        "Função savetxt: salva um array em um arquivo de texto"
      ],
      "metadata": {
        "id": "EF7X2bJjzUNR"
      }
    },
    {
      "cell_type": "code",
      "source": [
        "np.savetxt('dados_numpy01_alura.csv', dados, delimiter = ',')"
      ],
      "metadata": {
        "id": "hm5_lrF0zINQ"
      },
      "execution_count": null,
      "outputs": []
    },
    {
      "cell_type": "code",
      "source": [],
      "metadata": {
        "id": "rkU8qEe0zqwy"
      },
      "execution_count": null,
      "outputs": []
    },
    {
      "cell_type": "markdown",
      "source": [
        "# Diferença entre arrays"
      ],
      "metadata": {
        "id": "WvpZDHR3aIbJ"
      }
    },
    {
      "cell_type": "code",
      "source": [],
      "metadata": {
        "id": "ZGyyyoIVaL-A",
        "colab": {
          "base_uri": "https://localhost:8080/",
          "height": 106
        },
        "outputId": "6a010be9-1a75-4368-c924-e91ba848cd6e"
      },
      "execution_count": null,
      "outputs": [
        {
          "output_type": "error",
          "ename": "SyntaxError",
          "evalue": "invalid syntax (<ipython-input-85-efb1a9b93a17>, line 1)",
          "traceback": [
            "\u001b[0;36m  File \u001b[0;32m\"<ipython-input-85-efb1a9b93a17>\"\u001b[0;36m, line \u001b[0;32m1\u001b[0m\n\u001b[0;31m    plt.\u001b[0m\n\u001b[0m        ^\u001b[0m\n\u001b[0;31mSyntaxError\u001b[0m\u001b[0;31m:\u001b[0m invalid syntax\n"
          ]
        }
      ]
    },
    {
      "cell_type": "markdown",
      "source": [],
      "metadata": {
        "id": "oD1m2f5NE1S2"
      }
    },
    {
      "cell_type": "code",
      "source": [
        "# Gerando núm aleatórios em Z\n",
        "np.random.randint(low=40, high=100, size=100)"
      ],
      "metadata": {
        "colab": {
          "base_uri": "https://localhost:8080/"
        },
        "id": "l4bN9lMHEz3m",
        "outputId": "f1100e5a-097a-44e3-e638-b72c3777847f"
      },
      "execution_count": null,
      "outputs": [
        {
          "output_type": "execute_result",
          "data": {
            "text/plain": [
              "array([73, 62, 55, 50, 46, 71, 74, 53, 43, 60, 96, 63, 80, 81, 49, 92, 57,\n",
              "       85, 79, 80, 86, 83, 66, 90, 45, 85, 62, 40, 69, 40, 80, 46, 62, 48,\n",
              "       88, 98, 72, 74, 56, 48, 86, 60, 67, 55, 92, 81, 46, 90, 86, 54, 85,\n",
              "       56, 75, 49, 97, 66, 48, 40, 59, 64, 77, 98, 79, 76, 46, 91, 45, 41,\n",
              "       78, 87, 49, 48, 62, 77, 52, 58, 71, 75, 94, 61, 41, 54, 87, 55, 91,\n",
              "       74, 55, 55, 42, 59, 44, 72, 96, 50, 75, 65, 96, 42, 97, 77])"
            ]
          },
          "metadata": {},
          "execution_count": 86
        }
      ]
    },
    {
      "cell_type": "code",
      "source": [
        "# Gerando núm aleatórios em R\n",
        "np.random.uniform(low=0.10, high=0.9, size=100)"
      ],
      "metadata": {
        "colab": {
          "base_uri": "https://localhost:8080/"
        },
        "id": "pawYAFg7TRY5",
        "outputId": "77fa8761-6680-4f98-c48d-63ce95b33993"
      },
      "execution_count": null,
      "outputs": [
        {
          "output_type": "execute_result",
          "data": {
            "text/plain": [
              "array([0.50526253, 0.79521896, 0.46529549, 0.41293497, 0.17972692,\n",
              "       0.88552523, 0.73644394, 0.41920252, 0.52723623, 0.36425085,\n",
              "       0.42336076, 0.42807811, 0.84030249, 0.21474537, 0.46672158,\n",
              "       0.48703429, 0.43120259, 0.86772886, 0.16410341, 0.50118155,\n",
              "       0.50557062, 0.49111588, 0.48924173, 0.13922738, 0.41701676,\n",
              "       0.32367412, 0.30548245, 0.48039921, 0.26209519, 0.37999892,\n",
              "       0.21265266, 0.35348583, 0.12380623, 0.36672015, 0.79706366,\n",
              "       0.29100676, 0.59596685, 0.44684564, 0.38580712, 0.62259487,\n",
              "       0.51286654, 0.60688153, 0.67698242, 0.13156419, 0.68587835,\n",
              "       0.55080278, 0.75148557, 0.17046907, 0.18472326, 0.44551122,\n",
              "       0.28776664, 0.30409508, 0.69851555, 0.68262761, 0.57887405,\n",
              "       0.49689962, 0.86501094, 0.29844098, 0.101916  , 0.58252192,\n",
              "       0.53555706, 0.43055509, 0.27520987, 0.21003749, 0.8128793 ,\n",
              "       0.24616976, 0.89177508, 0.40751801, 0.74168017, 0.8465858 ,\n",
              "       0.29181976, 0.1516007 , 0.13282571, 0.72250763, 0.37564995,\n",
              "       0.44612079, 0.27342546, 0.72777282, 0.74229976, 0.13933517,\n",
              "       0.83534154, 0.67678408, 0.54289455, 0.63516127, 0.57965902,\n",
              "       0.87155964, 0.17862697, 0.61244711, 0.68035838, 0.57160883,\n",
              "       0.68583297, 0.60990191, 0.40983444, 0.89946423, 0.31221971,\n",
              "       0.17147428, 0.71225085, 0.7054428 , 0.25668127, 0.47548256])"
            ]
          },
          "metadata": {},
          "execution_count": 87
        }
      ]
    },
    {
      "cell_type": "code",
      "source": [
        "coef_angulares = np.random.uniform(low=0.10, high=0.9, size=100)"
      ],
      "metadata": {
        "id": "TFytFfeNTRRX"
      },
      "execution_count": null,
      "outputs": []
    },
    {
      "cell_type": "code",
      "source": [
        "norma2 = np.array([])\n",
        "for i in range(100):\n",
        "    norma2 = np.append(norma2, np.linalg.norm(Moscow-(coef_angulares[i]*X+b)))"
      ],
      "metadata": {
        "id": "h0KCiVdNTRGf"
      },
      "execution_count": null,
      "outputs": []
    },
    {
      "cell_type": "code",
      "source": [
        "norma2"
      ],
      "metadata": {
        "colab": {
          "base_uri": "https://localhost:8080/"
        },
        "id": "x_2cTreJTQ8m",
        "outputId": "f6aa8d50-d8bc-45f7-e842-a4d880e9a8f6"
      },
      "execution_count": null,
      "outputs": [
        {
          "output_type": "execute_result",
          "data": {
            "text/plain": [
              "array([173.90151233, 103.45241986, 121.75367289, 128.97173036,\n",
              "       238.69504078, 149.16590195, 137.73123242, 118.54419212,\n",
              "       101.79720981, 149.04689147, 112.80225228, 105.8049351 ,\n",
              "       230.82444742, 111.69709582, 134.56525603, 110.93209631,\n",
              "       204.12484401, 196.82117307, 221.88687726, 156.13691054,\n",
              "       125.51272174, 136.46474504, 165.39506278, 240.68784732,\n",
              "       104.52254473, 188.75637903, 131.2292927 , 128.94885341,\n",
              "       234.70773582, 147.01799832, 113.7418054 , 116.94496221,\n",
              "       109.58257043, 107.09546548, 145.00728041, 182.83818792,\n",
              "       140.95017242, 106.12371866, 107.0915778 , 132.45242448,\n",
              "       144.8736358 , 143.54772697, 240.23793834, 113.74604121,\n",
              "       116.01191029, 152.02977343, 174.72333708, 141.8068161 ,\n",
              "       101.93467119, 103.01538109, 169.59787792, 128.13083711,\n",
              "       105.06648948, 101.83421597, 102.53716362, 113.63850533,\n",
              "       219.96993004, 117.37921502, 182.70217805, 146.69612581,\n",
              "       178.64742004, 132.25425967, 109.74998636, 186.49825034,\n",
              "       104.98272763, 133.73791912, 182.82613374, 235.49081018,\n",
              "       179.79275527, 228.72013359, 184.2584889 , 114.02435937,\n",
              "       124.95415977, 187.42082714, 105.18421164, 102.1005486 ,\n",
              "       135.72717949, 107.19212075, 114.07766563, 225.76351056,\n",
              "       103.96340568, 118.21130391, 109.96158846, 181.54233309,\n",
              "       114.09828878, 118.61778913, 224.37792949, 153.50523694,\n",
              "       185.44994519, 117.35423938, 151.19534147, 118.44720795,\n",
              "       112.26379208, 104.60483872, 123.8587347 , 111.40038324,\n",
              "       102.05294074, 150.97459646, 108.76787533, 107.97542886])"
            ]
          },
          "metadata": {},
          "execution_count": 91
        }
      ]
    },
    {
      "cell_type": "code",
      "source": [
        "coef_angulares[1]"
      ],
      "metadata": {
        "colab": {
          "base_uri": "https://localhost:8080/"
        },
        "id": "fVNaA-1WHXw2",
        "outputId": "411461fa-a31a-4339-f8b6-91ea57ccba42"
      },
      "execution_count": null,
      "outputs": [
        {
          "output_type": "execute_result",
          "data": {
            "text/plain": [
              "0.39619385289247944"
            ]
          },
          "metadata": {},
          "execution_count": 93
        }
      ]
    },
    {
      "cell_type": "code",
      "source": [
        "np.random.uniform(low=0.10, high=0.9, size=100)"
      ],
      "metadata": {
        "colab": {
          "base_uri": "https://localhost:8080/"
        },
        "id": "6Bt7plUAYzgz",
        "outputId": "3ce5b165-27f3-45a7-84fc-ec7c3f9523c9"
      },
      "execution_count": null,
      "outputs": [
        {
          "output_type": "execute_result",
          "data": {
            "text/plain": [
              "array([0.7486062 , 0.21676577, 0.6741045 , 0.39277319, 0.88697367,\n",
              "       0.32838616, 0.58166453, 0.17107259, 0.39252686, 0.51739841,\n",
              "       0.23635046, 0.20201693, 0.42879437, 0.63070821, 0.7504279 ,\n",
              "       0.75130735, 0.57716098, 0.30147262, 0.57228529, 0.22518613,\n",
              "       0.45628436, 0.16011463, 0.14293152, 0.75897457, 0.67805643,\n",
              "       0.27656274, 0.33739421, 0.45944455, 0.48456116, 0.72874995,\n",
              "       0.62966524, 0.80320734, 0.40893945, 0.19872628, 0.67224791,\n",
              "       0.1644933 , 0.38816319, 0.76536564, 0.82684804, 0.27197942,\n",
              "       0.64470731, 0.33644361, 0.58214553, 0.4180161 , 0.64799838,\n",
              "       0.54974296, 0.10427168, 0.36743587, 0.81687277, 0.43440622,\n",
              "       0.41138915, 0.76402462, 0.40584172, 0.70390083, 0.34594805,\n",
              "       0.13106522, 0.79154184, 0.42370817, 0.88939993, 0.20670599,\n",
              "       0.80798812, 0.2916688 , 0.75247634, 0.25531607, 0.54682228,\n",
              "       0.44001387, 0.27370389, 0.46456039, 0.26353453, 0.69778043,\n",
              "       0.71169933, 0.41871683, 0.60197338, 0.21607544, 0.59787188,\n",
              "       0.85743809, 0.30860728, 0.39436323, 0.50615551, 0.36395451,\n",
              "       0.3283429 , 0.16897862, 0.49274669, 0.84593961, 0.25079351,\n",
              "       0.48384369, 0.8656086 , 0.42954951, 0.32741141, 0.13264276,\n",
              "       0.8615579 , 0.78917291, 0.36964225, 0.56116517, 0.46649581,\n",
              "       0.66597215, 0.58283968, 0.25869269, 0.70639657, 0.7922518 ])"
            ]
          },
          "metadata": {},
          "execution_count": 94
        }
      ]
    },
    {
      "cell_type": "code",
      "source": [
        "# Gerando o mesmo número aleatório\n",
        "np.random.seed(16)\n",
        "np.random.uniform(low=0.10, high=0.9, size=100)"
      ],
      "metadata": {
        "colab": {
          "base_uri": "https://localhost:8080/"
        },
        "id": "PR_HLAWVHXmj",
        "outputId": "a5a8a11e-5e10-4a89-e364-65cfcc258030"
      },
      "execution_count": null,
      "outputs": [
        {
          "output_type": "execute_result",
          "data": {
            "text/plain": [
              "array([0.27863286, 0.51853067, 0.54056117, 0.13648156, 0.38858307,\n",
              "       0.27846475, 0.65098093, 0.23098514, 0.15625989, 0.85280869,\n",
              "       0.5509451 , 0.16239387, 0.67811241, 0.22676174, 0.30022505,\n",
              "       0.3347898 , 0.65728857, 0.47141127, 0.27204971, 0.45746101,\n",
              "       0.196703  , 0.83414961, 0.55315706, 0.47761545, 0.35165314,\n",
              "       0.13457258, 0.70195593, 0.53461524, 0.71375234, 0.73235901,\n",
              "       0.1577771 , 0.62777267, 0.14263947, 0.64801956, 0.45468077,\n",
              "       0.47439692, 0.62884747, 0.65197331, 0.31066359, 0.10918315,\n",
              "       0.71703556, 0.75291386, 0.21171328, 0.5624054 , 0.37253942,\n",
              "       0.28577239, 0.258915  , 0.31719262, 0.88148221, 0.27234318,\n",
              "       0.38512593, 0.11471996, 0.59343222, 0.28432431, 0.69388139,\n",
              "       0.56740017, 0.43608284, 0.66740227, 0.87763642, 0.74803129,\n",
              "       0.44452414, 0.86618288, 0.13820648, 0.68622544, 0.64053316,\n",
              "       0.52160413, 0.55358996, 0.6783562 , 0.64608268, 0.73625014,\n",
              "       0.19027642, 0.25933011, 0.67705538, 0.41509386, 0.37134832,\n",
              "       0.22275655, 0.18045921, 0.42579769, 0.56633237, 0.69257642,\n",
              "       0.79628867, 0.87322093, 0.46445188, 0.4203384 , 0.3391517 ,\n",
              "       0.76268805, 0.82787294, 0.71290934, 0.15465183, 0.58482122,\n",
              "       0.85137291, 0.18171413, 0.88203161, 0.38535098, 0.62334973,\n",
              "       0.19822857, 0.86908175, 0.62094514, 0.84934225, 0.82706184])"
            ]
          },
          "metadata": {},
          "execution_count": 95
        }
      ]
    },
    {
      "cell_type": "code",
      "source": [
        "np.random.seed(84)\n",
        "coef_angulares = np.random.uniform(low=0.10, high=0.9, size=100)\n",
        "norma2 = np.array([])\n",
        "for i in range(100):\n",
        "    norma2 = np.append(norma2, np.linalg.norm(Moscow-(coef_angulares[i]*X+b)))"
      ],
      "metadata": {
        "id": "v42fGepEbOVS"
      },
      "execution_count": null,
      "outputs": []
    },
    {
      "cell_type": "code",
      "source": [
        "norma2"
      ],
      "metadata": {
        "colab": {
          "base_uri": "https://localhost:8080/"
        },
        "id": "18LzE2-qcpNF",
        "outputId": "bd3ebffd-1b77-4fb2-f8f7-3bb2fd3abe50"
      },
      "execution_count": null,
      "outputs": [
        {
          "output_type": "execute_result",
          "data": {
            "text/plain": [
              "array([173.90151233, 103.45241986, 121.75367289, 128.97173036,\n",
              "       238.69504078, 149.16590195, 137.73123242, 118.54419212,\n",
              "       101.79720981, 149.04689147, 112.80225228, 105.8049351 ,\n",
              "       230.82444742, 111.69709582, 134.56525603, 110.93209631,\n",
              "       204.12484401, 196.82117307, 221.88687726, 156.13691054,\n",
              "       125.51272174, 136.46474504, 165.39506278, 240.68784732,\n",
              "       104.52254473, 188.75637903, 131.2292927 , 128.94885341,\n",
              "       234.70773582, 147.01799832, 113.7418054 , 116.94496221,\n",
              "       109.58257043, 107.09546548, 145.00728041, 182.83818792,\n",
              "       140.95017242, 106.12371866, 107.0915778 , 132.45242448,\n",
              "       144.8736358 , 143.54772697, 240.23793834, 113.74604121,\n",
              "       116.01191029, 152.02977343, 174.72333708, 141.8068161 ,\n",
              "       101.93467119, 103.01538109, 169.59787792, 128.13083711,\n",
              "       105.06648948, 101.83421597, 102.53716362, 113.63850533,\n",
              "       219.96993004, 117.37921502, 182.70217805, 146.69612581,\n",
              "       178.64742004, 132.25425967, 109.74998636, 186.49825034,\n",
              "       104.98272763, 133.73791912, 182.82613374, 235.49081018,\n",
              "       179.79275527, 228.72013359, 184.2584889 , 114.02435937,\n",
              "       124.95415977, 187.42082714, 105.18421164, 102.1005486 ,\n",
              "       135.72717949, 107.19212075, 114.07766563, 225.76351056,\n",
              "       103.96340568, 118.21130391, 109.96158846, 181.54233309,\n",
              "       114.09828878, 118.61778913, 224.37792949, 153.50523694,\n",
              "       185.44994519, 117.35423938, 151.19534147, 118.44720795,\n",
              "       112.26379208, 104.60483872, 123.8587347 , 111.40038324,\n",
              "       102.05294074, 150.97459646, 108.76787533, 107.97542886])"
            ]
          },
          "metadata": {},
          "execution_count": 103
        }
      ]
    },
    {
      "cell_type": "code",
      "source": [
        "coef_angulares"
      ],
      "metadata": {
        "colab": {
          "base_uri": "https://localhost:8080/"
        },
        "id": "bOm8ajuNiwOJ",
        "outputId": "89ccbd97-8fb7-4e4f-9acd-177412b2e3d8"
      },
      "execution_count": null,
      "outputs": [
        {
          "output_type": "execute_result",
          "data": {
            "text/plain": [
              "array([0.13683279, 0.39619385, 0.29385461, 0.602784  , 0.89208805,\n",
              "       0.20447044, 0.23887133, 0.30665125, 0.43471917, 0.20481511,\n",
              "       0.3323601 , 0.49624488, 0.87360345, 0.33791189, 0.62144155,\n",
              "       0.52849032, 0.8096211 , 0.7916786 , 0.85242626, 0.18466651,\n",
              "       0.59057786, 0.24287265, 0.15934165, 0.89674619, 0.38501918,\n",
              "       0.77157959, 0.61045713, 0.2676991 , 0.88274155, 0.21072909,\n",
              "       0.54257849, 0.3133875 , 0.34935345, 0.36479868, 0.21666475,\n",
              "       0.75660734, 0.22889395, 0.4986747 , 0.36482516, 0.25587381,\n",
              "       0.21706205, 0.64938079, 0.89569528, 0.32780566, 0.55295355,\n",
              "       0.19624604, 0.13469036, 0.22628157, 0.44641143, 0.40177235,\n",
              "       0.1481411 , 0.59986997, 0.49023732, 0.4293729 , 0.46122788,\n",
              "       0.54208756, 0.84785549, 0.31153122, 0.11414346, 0.65873013,\n",
              "       0.74587422, 0.61387426, 0.52200325, 0.76589084, 0.38088747,\n",
              "       0.25165091, 0.11382762, 0.88457997, 0.74881915, 0.86863621,\n",
              "       0.11018484, 0.32649201, 0.28185578, 0.10218576, 0.37916895,\n",
              "       0.45185191, 0.24522431, 0.50626125, 0.32624184, 0.86163791,\n",
              "       0.4798819 , 0.30803145, 0.34720986, 0.11710349, 0.32614518,\n",
              "       0.30634758, 0.85835026, 0.67834579, 0.76324004, 0.55876684,\n",
              "       0.19862885, 0.56335202, 0.53537079, 0.48614717, 0.58451562,\n",
              "       0.53095673, 0.45048903, 0.67114321, 0.35412587, 0.35901695])"
            ]
          },
          "metadata": {},
          "execution_count": 104
        }
      ]
    },
    {
      "cell_type": "code",
      "source": [
        "# Unindo 2 ou mais arrays, lado a lado, como colunas em uma matriz.\n",
        "dados = np.column_stack([norma2, coef_angulares])"
      ],
      "metadata": {
        "id": "4BzKOzzkiv5w"
      },
      "execution_count": null,
      "outputs": []
    },
    {
      "cell_type": "code",
      "source": [
        "dados.shape"
      ],
      "metadata": {
        "colab": {
          "base_uri": "https://localhost:8080/"
        },
        "id": "sFy0hh1Im3fP",
        "outputId": "29c8f7aa-bb06-4738-f821-091b9ad92e9d"
      },
      "execution_count": null,
      "outputs": [
        {
          "output_type": "execute_result",
          "data": {
            "text/plain": [
              "(100, 2)"
            ]
          },
          "metadata": {},
          "execution_count": 105
        }
      ]
    },
    {
      "cell_type": "code",
      "source": [
        "# Salvando um array em arquivo de texto\n",
        "np.savetxt('dados.csv', dados, delimiter = ',')"
      ],
      "metadata": {
        "id": "2BW3A_sJm_zo"
      },
      "execution_count": null,
      "outputs": []
    },
    {
      "cell_type": "code",
      "source": [
        "dados"
      ],
      "metadata": {
        "id": "g6jrZAZfnkoZ",
        "outputId": "0f87959b-5581-4540-ca0b-fb0e9ce1775c",
        "colab": {
          "base_uri": "https://localhost:8080/"
        }
      },
      "execution_count": null,
      "outputs": [
        {
          "output_type": "execute_result",
          "data": {
            "text/plain": [
              "array([[1.73901512e+02, 1.36832795e-01],\n",
              "       [1.03452420e+02, 3.96193853e-01],\n",
              "       [1.21753673e+02, 2.93854614e-01],\n",
              "       [1.28971730e+02, 6.02784004e-01],\n",
              "       [2.38695041e+02, 8.92088048e-01],\n",
              "       [1.49165902e+02, 2.04470439e-01],\n",
              "       [1.37731232e+02, 2.38871331e-01],\n",
              "       [1.18544192e+02, 3.06651246e-01],\n",
              "       [1.01797210e+02, 4.34719173e-01],\n",
              "       [1.49046891e+02, 2.04815115e-01],\n",
              "       [1.12802252e+02, 3.32360100e-01],\n",
              "       [1.05804935e+02, 4.96244876e-01],\n",
              "       [2.30824447e+02, 8.73603452e-01],\n",
              "       [1.11697096e+02, 3.37911891e-01],\n",
              "       [1.34565256e+02, 6.21441549e-01],\n",
              "       [1.10932096e+02, 5.28490318e-01],\n",
              "       [2.04124844e+02, 8.09621105e-01],\n",
              "       [1.96821173e+02, 7.91678598e-01],\n",
              "       [2.21886877e+02, 8.52426259e-01],\n",
              "       [1.56136911e+02, 1.84666511e-01],\n",
              "       [1.25512722e+02, 5.90577856e-01],\n",
              "       [1.36464745e+02, 2.42872649e-01],\n",
              "       [1.65395063e+02, 1.59341647e-01],\n",
              "       [2.40687847e+02, 8.96746192e-01],\n",
              "       [1.04522545e+02, 3.85019182e-01],\n",
              "       [1.88756379e+02, 7.71579591e-01],\n",
              "       [1.31229293e+02, 6.10457133e-01],\n",
              "       [1.28948853e+02, 2.67699096e-01],\n",
              "       [2.34707736e+02, 8.82741553e-01],\n",
              "       [1.47017998e+02, 2.10729091e-01],\n",
              "       [1.13741805e+02, 5.42578488e-01],\n",
              "       [1.16944962e+02, 3.13387503e-01],\n",
              "       [1.09582570e+02, 3.49353446e-01],\n",
              "       [1.07095465e+02, 3.64798675e-01],\n",
              "       [1.45007280e+02, 2.16664750e-01],\n",
              "       [1.82838188e+02, 7.56607337e-01],\n",
              "       [1.40950172e+02, 2.28893954e-01],\n",
              "       [1.06123719e+02, 4.98674696e-01],\n",
              "       [1.07091578e+02, 3.64825163e-01],\n",
              "       [1.32452424e+02, 2.55873812e-01],\n",
              "       [1.44873636e+02, 2.17062053e-01],\n",
              "       [1.43547727e+02, 6.49380794e-01],\n",
              "       [2.40237938e+02, 8.95695282e-01],\n",
              "       [1.13746041e+02, 3.27805663e-01],\n",
              "       [1.16011910e+02, 5.52953548e-01],\n",
              "       [1.52029773e+02, 1.96246038e-01],\n",
              "       [1.74723337e+02, 1.34690357e-01],\n",
              "       [1.41806816e+02, 2.26281568e-01],\n",
              "       [1.01934671e+02, 4.46411433e-01],\n",
              "       [1.03015381e+02, 4.01772345e-01],\n",
              "       [1.69597878e+02, 1.48141097e-01],\n",
              "       [1.28130837e+02, 5.99869975e-01],\n",
              "       [1.05066489e+02, 4.90237320e-01],\n",
              "       [1.01834216e+02, 4.29372898e-01],\n",
              "       [1.02537164e+02, 4.61227883e-01],\n",
              "       [1.13638505e+02, 5.42087557e-01],\n",
              "       [2.19969930e+02, 8.47855493e-01],\n",
              "       [1.17379215e+02, 3.11531216e-01],\n",
              "       [1.82702178e+02, 1.14143458e-01],\n",
              "       [1.46696126e+02, 6.58730132e-01],\n",
              "       [1.78647420e+02, 7.45874224e-01],\n",
              "       [1.32254260e+02, 6.13874257e-01],\n",
              "       [1.09749986e+02, 5.22003253e-01],\n",
              "       [1.86498250e+02, 7.65890838e-01],\n",
              "       [1.04982728e+02, 3.80887466e-01],\n",
              "       [1.33737919e+02, 2.51650906e-01],\n",
              "       [1.82826134e+02, 1.13827615e-01],\n",
              "       [2.35490810e+02, 8.84579966e-01],\n",
              "       [1.79792755e+02, 7.48819153e-01],\n",
              "       [2.28720134e+02, 8.68636214e-01],\n",
              "       [1.84258489e+02, 1.10184840e-01],\n",
              "       [1.14024359e+02, 3.26492005e-01],\n",
              "       [1.24954160e+02, 2.81855776e-01],\n",
              "       [1.87420827e+02, 1.02185763e-01],\n",
              "       [1.05184212e+02, 3.79168955e-01],\n",
              "       [1.02100549e+02, 4.51851906e-01],\n",
              "       [1.35727179e+02, 2.45224309e-01],\n",
              "       [1.07192121e+02, 5.06261248e-01],\n",
              "       [1.14077666e+02, 3.26241845e-01],\n",
              "       [2.25763511e+02, 8.61637911e-01],\n",
              "       [1.03963406e+02, 4.79881898e-01],\n",
              "       [1.18211304e+02, 3.08031447e-01],\n",
              "       [1.09961588e+02, 3.47209860e-01],\n",
              "       [1.81542333e+02, 1.17103490e-01],\n",
              "       [1.14098289e+02, 3.26145185e-01],\n",
              "       [1.18617789e+02, 3.06347578e-01],\n",
              "       [2.24377929e+02, 8.58350258e-01],\n",
              "       [1.53505237e+02, 6.78345791e-01],\n",
              "       [1.85449945e+02, 7.63240042e-01],\n",
              "       [1.17354239e+02, 5.58766835e-01],\n",
              "       [1.51195341e+02, 1.98628852e-01],\n",
              "       [1.18447208e+02, 5.63352022e-01],\n",
              "       [1.12263792e+02, 5.35370792e-01],\n",
              "       [1.04604839e+02, 4.86147173e-01],\n",
              "       [1.23858735e+02, 5.84515617e-01],\n",
              "       [1.11400383e+02, 5.30956733e-01],\n",
              "       [1.02052941e+02, 4.50489028e-01],\n",
              "       [1.50974596e+02, 6.71143215e-01],\n",
              "       [1.08767875e+02, 3.54125873e-01],\n",
              "       [1.07975429e+02, 3.59016952e-01]])"
            ]
          },
          "metadata": {},
          "execution_count": 107
        }
      ]
    },
    {
      "cell_type": "code",
      "source": [],
      "metadata": {
        "id": "SZK8bUHDHXZf"
      },
      "execution_count": null,
      "outputs": []
    },
    {
      "cell_type": "code",
      "source": [
        "# Desenhando um círculo\n",
        "import numpy as np\n",
        "import matplotlib.pyplot as plt\n",
        "\n",
        "# Gerar uma sequência de valores de x de -1 a 1\n",
        "x = np.arange(-1, 1.01, 0.0001)\n",
        "\n",
        "# Implementação da fórmula\n",
        "y1 = np.sqrt(1 - x**2)\n",
        "y2 = -np.sqrt(1 - x**2)\n",
        "\n",
        "# Plotar o gráfico com as duas partes do círculo\n",
        "plt.plot(x, y1, 'r')\n",
        "plt.plot(x, y2, 'r' )\n",
        "\n",
        "# Adicionar o título do gráfico e os rótulos dos eixos x e y\n",
        "plt.title(\"Círculo\")\n",
        "plt.xlabel(\"Eixo x\")\n",
        "plt.ylabel(\"Eixo y\")\n",
        "\n",
        "# Exibir o gráfico\n",
        "plt.show()"
      ],
      "metadata": {
        "id": "zTbf0BNNEXMc"
      },
      "execution_count": null,
      "outputs": []
    },
    {
      "cell_type": "code",
      "source": [],
      "metadata": {
        "id": "-gvssz2bTOAj"
      },
      "execution_count": null,
      "outputs": []
    }
  ]
}